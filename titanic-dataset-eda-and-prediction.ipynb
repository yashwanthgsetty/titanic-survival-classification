{
 "cells": [
  {
   "cell_type": "code",
   "execution_count": 72,
   "id": "fc04391f",
   "metadata": {
    "execution": {
     "iopub.execute_input": "2023-01-05T20:09:51.679569Z",
     "iopub.status.busy": "2023-01-05T20:09:51.679117Z",
     "iopub.status.idle": "2023-01-05T20:09:51.687270Z",
     "shell.execute_reply": "2023-01-05T20:09:51.686302Z",
     "shell.execute_reply.started": "2023-01-05T20:09:51.679540Z"
    }
   },
   "outputs": [],
   "source": [
    "import numpy as np # linear algebra\n",
    "import pandas as pd # data processing, CSV file I/O (e.g. pd.read_csv)\n",
    "import matplotlib.pyplot as plt\n",
    "import seaborn as sb\n",
    "\n",
    "# Input data files are available in the read-only \"../input/\" directory\n",
    "# For example, running this (by clicking run or pressing Shift+Enter) will list all files under the input directory\n",
    "\n",
    "# You can write up to 20GB to the current directory (/kaggle/working/) that gets preserved as output when you create a version using \"Save & Run All\" \n",
    "# You can also write temporary files to /kaggle/temp/, but they won't be saved outside of the current session"
   ]
  },
  {
   "cell_type": "code",
   "execution_count": 73,
   "id": "119b9b8e",
   "metadata": {
    "execution": {
     "iopub.execute_input": "2023-01-05T20:09:51.691256Z",
     "iopub.status.busy": "2023-01-05T20:09:51.690373Z",
     "iopub.status.idle": "2023-01-05T20:09:51.702917Z",
     "shell.execute_reply": "2023-01-05T20:09:51.701046Z",
     "shell.execute_reply.started": "2023-01-05T20:09:51.691207Z"
    }
   },
   "outputs": [],
   "source": [
    "import warnings\n",
    "warnings.filterwarnings('ignore')"
   ]
  },
  {
   "cell_type": "markdown",
   "id": "afbb1c35",
   "metadata": {},
   "source": [
    "## Importing Data"
   ]
  },
  {
   "cell_type": "code",
   "execution_count": 74,
   "id": "238b36d8",
   "metadata": {
    "execution": {
     "iopub.execute_input": "2023-01-05T20:09:51.705413Z",
     "iopub.status.busy": "2023-01-05T20:09:51.704380Z",
     "iopub.status.idle": "2023-01-05T20:09:51.732098Z",
     "shell.execute_reply": "2023-01-05T20:09:51.729129Z",
     "shell.execute_reply.started": "2023-01-05T20:09:51.705368Z"
    }
   },
   "outputs": [],
   "source": [
    "data=pd.read_csv('train.csv')\n",
    "test_data=pd.read_csv('test.csv')"
   ]
  },
  {
   "cell_type": "code",
   "execution_count": 75,
   "id": "853c76e0",
   "metadata": {
    "execution": {
     "iopub.execute_input": "2023-01-05T20:09:51.734853Z",
     "iopub.status.busy": "2023-01-05T20:09:51.734390Z",
     "iopub.status.idle": "2023-01-05T20:09:51.753882Z",
     "shell.execute_reply": "2023-01-05T20:09:51.752618Z",
     "shell.execute_reply.started": "2023-01-05T20:09:51.734821Z"
    }
   },
   "outputs": [
    {
     "data": {
      "text/html": [
       "<div>\n",
       "<style scoped>\n",
       "    .dataframe tbody tr th:only-of-type {\n",
       "        vertical-align: middle;\n",
       "    }\n",
       "\n",
       "    .dataframe tbody tr th {\n",
       "        vertical-align: top;\n",
       "    }\n",
       "\n",
       "    .dataframe thead th {\n",
       "        text-align: right;\n",
       "    }\n",
       "</style>\n",
       "<table border=\"1\" class=\"dataframe\">\n",
       "  <thead>\n",
       "    <tr style=\"text-align: right;\">\n",
       "      <th></th>\n",
       "      <th>PassengerId</th>\n",
       "      <th>Survived</th>\n",
       "      <th>Pclass</th>\n",
       "      <th>Name</th>\n",
       "      <th>Sex</th>\n",
       "      <th>Age</th>\n",
       "      <th>SibSp</th>\n",
       "      <th>Parch</th>\n",
       "      <th>Ticket</th>\n",
       "      <th>Fare</th>\n",
       "      <th>Cabin</th>\n",
       "      <th>Embarked</th>\n",
       "    </tr>\n",
       "  </thead>\n",
       "  <tbody>\n",
       "    <tr>\n",
       "      <th>0</th>\n",
       "      <td>1</td>\n",
       "      <td>0</td>\n",
       "      <td>3</td>\n",
       "      <td>Braund, Mr. Owen Harris</td>\n",
       "      <td>male</td>\n",
       "      <td>22.0</td>\n",
       "      <td>1</td>\n",
       "      <td>0</td>\n",
       "      <td>A/5 21171</td>\n",
       "      <td>7.2500</td>\n",
       "      <td>NaN</td>\n",
       "      <td>S</td>\n",
       "    </tr>\n",
       "    <tr>\n",
       "      <th>1</th>\n",
       "      <td>2</td>\n",
       "      <td>1</td>\n",
       "      <td>1</td>\n",
       "      <td>Cumings, Mrs. John Bradley (Florence Briggs Th...</td>\n",
       "      <td>female</td>\n",
       "      <td>38.0</td>\n",
       "      <td>1</td>\n",
       "      <td>0</td>\n",
       "      <td>PC 17599</td>\n",
       "      <td>71.2833</td>\n",
       "      <td>C85</td>\n",
       "      <td>C</td>\n",
       "    </tr>\n",
       "    <tr>\n",
       "      <th>2</th>\n",
       "      <td>3</td>\n",
       "      <td>1</td>\n",
       "      <td>3</td>\n",
       "      <td>Heikkinen, Miss. Laina</td>\n",
       "      <td>female</td>\n",
       "      <td>26.0</td>\n",
       "      <td>0</td>\n",
       "      <td>0</td>\n",
       "      <td>STON/O2. 3101282</td>\n",
       "      <td>7.9250</td>\n",
       "      <td>NaN</td>\n",
       "      <td>S</td>\n",
       "    </tr>\n",
       "    <tr>\n",
       "      <th>3</th>\n",
       "      <td>4</td>\n",
       "      <td>1</td>\n",
       "      <td>1</td>\n",
       "      <td>Futrelle, Mrs. Jacques Heath (Lily May Peel)</td>\n",
       "      <td>female</td>\n",
       "      <td>35.0</td>\n",
       "      <td>1</td>\n",
       "      <td>0</td>\n",
       "      <td>113803</td>\n",
       "      <td>53.1000</td>\n",
       "      <td>C123</td>\n",
       "      <td>S</td>\n",
       "    </tr>\n",
       "    <tr>\n",
       "      <th>4</th>\n",
       "      <td>5</td>\n",
       "      <td>0</td>\n",
       "      <td>3</td>\n",
       "      <td>Allen, Mr. William Henry</td>\n",
       "      <td>male</td>\n",
       "      <td>35.0</td>\n",
       "      <td>0</td>\n",
       "      <td>0</td>\n",
       "      <td>373450</td>\n",
       "      <td>8.0500</td>\n",
       "      <td>NaN</td>\n",
       "      <td>S</td>\n",
       "    </tr>\n",
       "  </tbody>\n",
       "</table>\n",
       "</div>"
      ],
      "text/plain": [
       "   PassengerId  Survived  Pclass  \\\n",
       "0            1         0       3   \n",
       "1            2         1       1   \n",
       "2            3         1       3   \n",
       "3            4         1       1   \n",
       "4            5         0       3   \n",
       "\n",
       "                                                Name     Sex   Age  SibSp  \\\n",
       "0                            Braund, Mr. Owen Harris    male  22.0      1   \n",
       "1  Cumings, Mrs. John Bradley (Florence Briggs Th...  female  38.0      1   \n",
       "2                             Heikkinen, Miss. Laina  female  26.0      0   \n",
       "3       Futrelle, Mrs. Jacques Heath (Lily May Peel)  female  35.0      1   \n",
       "4                           Allen, Mr. William Henry    male  35.0      0   \n",
       "\n",
       "   Parch            Ticket     Fare Cabin Embarked  \n",
       "0      0         A/5 21171   7.2500   NaN        S  \n",
       "1      0          PC 17599  71.2833   C85        C  \n",
       "2      0  STON/O2. 3101282   7.9250   NaN        S  \n",
       "3      0            113803  53.1000  C123        S  \n",
       "4      0            373450   8.0500   NaN        S  "
      ]
     },
     "execution_count": 75,
     "metadata": {},
     "output_type": "execute_result"
    }
   ],
   "source": [
    "data.head()"
   ]
  },
  {
   "cell_type": "markdown",
   "id": "65f0c2f1",
   "metadata": {},
   "source": [
    "# Exploratory Data Analysis"
   ]
  },
  {
   "cell_type": "code",
   "execution_count": 76,
   "id": "71f045a2",
   "metadata": {
    "execution": {
     "iopub.execute_input": "2023-01-05T20:09:51.756990Z",
     "iopub.status.busy": "2023-01-05T20:09:51.756459Z",
     "iopub.status.idle": "2023-01-05T20:09:51.766779Z",
     "shell.execute_reply": "2023-01-05T20:09:51.764432Z",
     "shell.execute_reply.started": "2023-01-05T20:09:51.756961Z"
    }
   },
   "outputs": [
    {
     "name": "stdout",
     "output_type": "stream",
     "text": [
      "--------------------------The features in Titanic Dataset are as follows:---------------------------\n",
      "1. PassengerId\n",
      "2. Survived\n",
      "3. Pclass\n",
      "4. Name\n",
      "5. Sex\n",
      "6. Age\n",
      "7. SibSp\n",
      "8. Parch\n",
      "9. Ticket\n",
      "10. Fare\n",
      "11. Cabin\n",
      "12. Embarked\n"
     ]
    }
   ],
   "source": [
    "print (f'{\"The features in Titanic Dataset are as follows:\":-^100}')\n",
    "n = 1\n",
    "for each in data.columns:\n",
    "    print(str(n)+'. '+each)\n",
    "    n+=1"
   ]
  },
  {
   "cell_type": "code",
   "execution_count": 77,
   "id": "06a71301",
   "metadata": {
    "execution": {
     "iopub.execute_input": "2023-01-05T20:09:51.768994Z",
     "iopub.status.busy": "2023-01-05T20:09:51.768560Z",
     "iopub.status.idle": "2023-01-05T20:09:51.998740Z",
     "shell.execute_reply": "2023-01-05T20:09:51.996583Z",
     "shell.execute_reply.started": "2023-01-05T20:09:51.768952Z"
    },
    "scrolled": true
   },
   "outputs": [
    {
     "data": {
      "image/png": "[encoded data removed]",
      "text/plain": [
       "<Figure size 720x360 with 2 Axes>"
      ]
     },
     "metadata": {},
     "output_type": "display_data"
    }
   ],
   "source": [
    "plt.style.use('fivethirtyeight')\n",
    "f, ax = plt.subplots(1,2, figsize=(10,5))\n",
    "data['Survived'].value_counts().plot.pie(explode = [0,0.1], autopct='%1.1f%%', ax=ax[0], shadow=True)\n",
    "\n",
    "sb.countplot(data['Survived'], ax=ax[1])\n",
    "plt.show()\n"
   ]
  },
  {
   "cell_type": "markdown",
   "id": "598fd79f",
   "metadata": {},
   "source": [
    "We see that only 38.4% of the Passengers survived. \n",
    "Next, let's see how different features are impacting survival rate."
   ]
  },
  {
   "cell_type": "markdown",
   "id": "545b8f27",
   "metadata": {},
   "source": [
    "## Feature Analysis"
   ]
  },
  {
   "cell_type": "code",
   "execution_count": 78,
   "id": "90943b11",
   "metadata": {
    "execution": {
     "iopub.execute_input": "2023-01-05T20:09:52.001991Z",
     "iopub.status.busy": "2023-01-05T20:09:52.001530Z",
     "iopub.status.idle": "2023-01-05T20:09:52.015250Z",
     "shell.execute_reply": "2023-01-05T20:09:52.013434Z",
     "shell.execute_reply.started": "2023-01-05T20:09:52.001951Z"
    }
   },
   "outputs": [
    {
     "data": {
      "text/plain": [
       "PassengerId      0\n",
       "Survived         0\n",
       "Pclass           0\n",
       "Name             0\n",
       "Sex              0\n",
       "Age            177\n",
       "SibSp            0\n",
       "Parch            0\n",
       "Ticket           0\n",
       "Fare             0\n",
       "Cabin          687\n",
       "Embarked         2\n",
       "dtype: int64"
      ]
     },
     "execution_count": 78,
     "metadata": {},
     "output_type": "execute_result"
    }
   ],
   "source": [
    "data.isnull().sum()"
   ]
  },
  {
   "cell_type": "markdown",
   "id": "f73c9e92",
   "metadata": {},
   "source": [
    "We see there are 177 NULL Values in Age and 687 NULL values in Cabin. We will address this in later stage. "
   ]
  },
  {
   "cell_type": "markdown",
   "id": "5831cbed",
   "metadata": {},
   "source": [
    "### Survival Based on Sex"
   ]
  },
  {
   "cell_type": "code",
   "execution_count": 79,
   "id": "b244445e",
   "metadata": {
    "execution": {
     "iopub.execute_input": "2023-01-05T20:09:52.017406Z",
     "iopub.status.busy": "2023-01-05T20:09:52.017010Z",
     "iopub.status.idle": "2023-01-05T20:09:52.030904Z",
     "shell.execute_reply": "2023-01-05T20:09:52.029382Z",
     "shell.execute_reply.started": "2023-01-05T20:09:52.017367Z"
    }
   },
   "outputs": [
    {
     "data": {
      "text/plain": [
       "male      577\n",
       "female    314\n",
       "Name: Sex, dtype: int64"
      ]
     },
     "execution_count": 79,
     "metadata": {},
     "output_type": "execute_result"
    }
   ],
   "source": [
    "data.Sex.value_counts()"
   ]
  },
  {
   "cell_type": "code",
   "execution_count": 80,
   "id": "8dce930c",
   "metadata": {
    "execution": {
     "iopub.execute_input": "2023-01-05T20:09:52.032747Z",
     "iopub.status.busy": "2023-01-05T20:09:52.032227Z",
     "iopub.status.idle": "2023-01-05T20:09:52.154124Z",
     "shell.execute_reply": "2023-01-05T20:09:52.153233Z",
     "shell.execute_reply.started": "2023-01-05T20:09:52.032717Z"
    }
   },
   "outputs": [
    {
     "data": {
      "image/png": "[encoded data removed]",
      "text/plain": [
       "<Figure size 432x288 with 1 Axes>"
      ]
     },
     "metadata": {},
     "output_type": "display_data"
    }
   ],
   "source": [
    "sb.countplot('Sex', data=data)\n",
    "plt.show()"
   ]
  },
  {
   "cell_type": "code",
   "execution_count": 81,
   "id": "3aaed2f3",
   "metadata": {
    "execution": {
     "iopub.execute_input": "2023-01-05T20:09:52.158528Z",
     "iopub.status.busy": "2023-01-05T20:09:52.157278Z",
     "iopub.status.idle": "2023-01-05T20:09:52.445076Z",
     "shell.execute_reply": "2023-01-05T20:09:52.443071Z",
     "shell.execute_reply.started": "2023-01-05T20:09:52.158492Z"
    }
   },
   "outputs": [
    {
     "data": {
      "image/png": "[encoded data removed]",
      "text/plain": [
       "<Figure size 720x360 with 2 Axes>"
      ]
     },
     "metadata": {},
     "output_type": "display_data"
    }
   ],
   "source": [
    "f, ax = plt.subplots(1,2, figsize=(10,5))\n",
    "data[['Sex', 'Survived']].groupby(['Sex']).mean().plot.bar(ax=ax[0])\n",
    "ax[0].set_title(\"Survival based on Sex\", color='#282926')\n",
    "sb.countplot('Sex', hue='Survived', data=data, ax=ax[1] )\n",
    "ax[1].set_title(\"Survived and Dead in each Sex\", color='#282926')\n",
    "\n",
    "plt.show()"
   ]
  },
  {
   "cell_type": "markdown",
   "id": "57e0ace3",
   "metadata": {},
   "source": [
    "We see more than 70% of the women have surived which is significantly more the male survivors (<20%)\n",
    "We can say, this is a very significant feature for our prediction."
   ]
  },
  {
   "cell_type": "markdown",
   "id": "0f20cde8",
   "metadata": {},
   "source": [
    "### Survival Based on Pclass"
   ]
  },
  {
   "cell_type": "code",
   "execution_count": 82,
   "id": "7a782211",
   "metadata": {
    "execution": {
     "iopub.execute_input": "2023-01-05T20:09:52.449620Z",
     "iopub.status.busy": "2023-01-05T20:09:52.447916Z",
     "iopub.status.idle": "2023-01-05T20:09:52.510918Z",
     "shell.execute_reply": "2023-01-05T20:09:52.509841Z",
     "shell.execute_reply.started": "2023-01-05T20:09:52.449539Z"
    }
   },
   "outputs": [
    {
     "data": {
      "text/html": [
       "<style type=\"text/css\">\n",
       "#T_77e03_row0_col0, #T_77e03_row1_col1, #T_77e03_row1_col2 {\n",
       "  background-color: #0000ff;\n",
       "  color: #f1f1f1;\n",
       "}\n",
       "#T_77e03_row0_col1 {\n",
       "  background-color: #6262ff;\n",
       "  color: #f1f1f1;\n",
       "}\n",
       "#T_77e03_row0_col2 {\n",
       "  background-color: #1616ff;\n",
       "  color: #f1f1f1;\n",
       "}\n",
       "#T_77e03_row1_col0 {\n",
       "  background-color: #1212ff;\n",
       "  color: #f1f1f1;\n",
       "}\n",
       "#T_77e03_row2_col0 {\n",
       "  background-color: #ffc0c0;\n",
       "  color: #000000;\n",
       "}\n",
       "#T_77e03_row2_col1 {\n",
       "  background-color: #4040ff;\n",
       "  color: #f1f1f1;\n",
       "}\n",
       "#T_77e03_row2_col2 {\n",
       "  background-color: #dedeff;\n",
       "  color: #000000;\n",
       "}\n",
       "#T_77e03_row3_col0, #T_77e03_row3_col1, #T_77e03_row3_col2 {\n",
       "  background-color: #ff0000;\n",
       "  color: #f1f1f1;\n",
       "}\n",
       "</style>\n",
       "<table id=\"T_77e03\">\n",
       "  <thead>\n",
       "    <tr>\n",
       "      <th class=\"index_name level0\" >Survived</th>\n",
       "      <th id=\"T_77e03_level0_col0\" class=\"col_heading level0 col0\" >0</th>\n",
       "      <th id=\"T_77e03_level0_col1\" class=\"col_heading level0 col1\" >1</th>\n",
       "      <th id=\"T_77e03_level0_col2\" class=\"col_heading level0 col2\" >All</th>\n",
       "    </tr>\n",
       "    <tr>\n",
       "      <th class=\"index_name level0\" >Pclass</th>\n",
       "      <th class=\"blank col0\" >&nbsp;</th>\n",
       "      <th class=\"blank col1\" >&nbsp;</th>\n",
       "      <th class=\"blank col2\" >&nbsp;</th>\n",
       "    </tr>\n",
       "  </thead>\n",
       "  <tbody>\n",
       "    <tr>\n",
       "      <th id=\"T_77e03_level0_row0\" class=\"row_heading level0 row0\" >1</th>\n",
       "      <td id=\"T_77e03_row0_col0\" class=\"data row0 col0\" >80</td>\n",
       "      <td id=\"T_77e03_row0_col1\" class=\"data row0 col1\" >136</td>\n",
       "      <td id=\"T_77e03_row0_col2\" class=\"data row0 col2\" >216</td>\n",
       "    </tr>\n",
       "    <tr>\n",
       "      <th id=\"T_77e03_level0_row1\" class=\"row_heading level0 row1\" >2</th>\n",
       "      <td id=\"T_77e03_row1_col0\" class=\"data row1 col0\" >97</td>\n",
       "      <td id=\"T_77e03_row1_col1\" class=\"data row1 col1\" >87</td>\n",
       "      <td id=\"T_77e03_row1_col2\" class=\"data row1 col2\" >184</td>\n",
       "    </tr>\n",
       "    <tr>\n",
       "      <th id=\"T_77e03_level0_row2\" class=\"row_heading level0 row2\" >3</th>\n",
       "      <td id=\"T_77e03_row2_col0\" class=\"data row2 col0\" >372</td>\n",
       "      <td id=\"T_77e03_row2_col1\" class=\"data row2 col1\" >119</td>\n",
       "      <td id=\"T_77e03_row2_col2\" class=\"data row2 col2\" >491</td>\n",
       "    </tr>\n",
       "    <tr>\n",
       "      <th id=\"T_77e03_level0_row3\" class=\"row_heading level0 row3\" >All</th>\n",
       "      <td id=\"T_77e03_row3_col0\" class=\"data row3 col0\" >549</td>\n",
       "      <td id=\"T_77e03_row3_col1\" class=\"data row3 col1\" >342</td>\n",
       "      <td id=\"T_77e03_row3_col2\" class=\"data row3 col2\" >891</td>\n",
       "    </tr>\n",
       "  </tbody>\n",
       "</table>\n"
      ],
      "text/plain": [
       "<pandas.io.formats.style.Styler at 0x2466b3981c0>"
      ]
     },
     "execution_count": 82,
     "metadata": {},
     "output_type": "execute_result"
    }
   ],
   "source": [
    "pd.crosstab(data.Pclass,data.Survived,margins=True).style.background_gradient(cmap='bwr')"
   ]
  },
  {
   "cell_type": "code",
   "execution_count": 83,
   "id": "ca10dd6a",
   "metadata": {
    "execution": {
     "iopub.execute_input": "2023-01-05T20:09:52.512679Z",
     "iopub.status.busy": "2023-01-05T20:09:52.512320Z",
     "iopub.status.idle": "2023-01-05T20:09:52.802058Z",
     "shell.execute_reply": "2023-01-05T20:09:52.800146Z",
     "shell.execute_reply.started": "2023-01-05T20:09:52.512646Z"
    }
   },
   "outputs": [
    {
     "data": {
      "image/png": "[encoded data removed]",
      "text/plain": [
       "<Figure size 720x360 with 2 Axes>"
      ]
     },
     "metadata": {},
     "output_type": "display_data"
    }
   ],
   "source": [
    "f,ax=plt.subplots(1,2,figsize=(10,5))\n",
    "\n",
    "data['Pclass'].value_counts().plot.bar(color=['#60b066','#cee666','#ffff66'],ax=ax[0])\n",
    "ax[0].set_title('Number Of Passengers By Pclass', color='#282926')\n",
    "ax[0].set_ylabel('count')\n",
    "ax[0].set_xlabel('P Class')\n",
    "\n",
    "sb.countplot('Pclass',hue='Survived',data=data,ax=ax[1])\n",
    "ax[1].set_title('Survived and Dead in each class', color='#282926')\n",
    "\n",
    "plt.show()"
   ]
  },
  {
   "cell_type": "markdown",
   "id": "625fe4d1",
   "metadata": {},
   "source": [
    "We see a clear relationship between Survival and Class in which the passesngers were travelling, \n",
    "Clearly many of those who survived are from first class. \n",
    "\n",
    "Let's dig in further, by including the Sex factor along with the P CLass."
   ]
  },
  {
   "cell_type": "code",
   "execution_count": 84,
   "id": "6e77f955",
   "metadata": {
    "execution": {
     "iopub.execute_input": "2023-01-05T20:09:52.805672Z",
     "iopub.status.busy": "2023-01-05T20:09:52.804844Z",
     "iopub.status.idle": "2023-01-05T20:09:52.868080Z",
     "shell.execute_reply": "2023-01-05T20:09:52.867105Z",
     "shell.execute_reply.started": "2023-01-05T20:09:52.805591Z"
    }
   },
   "outputs": [
    {
     "data": {
      "text/html": [
       "<style type=\"text/css\">\n",
       "#T_13ad5_row0_col0, #T_13ad5_row2_col2, #T_13ad5_row3_col1 {\n",
       "  background-color: #0000ff;\n",
       "  color: #f1f1f1;\n",
       "}\n",
       "#T_13ad5_row0_col1 {\n",
       "  background-color: #7474ff;\n",
       "  color: #f1f1f1;\n",
       "}\n",
       "#T_13ad5_row0_col2 {\n",
       "  background-color: #0a0aff;\n",
       "  color: #f1f1f1;\n",
       "}\n",
       "#T_13ad5_row1_col0 {\n",
       "  background-color: #4444ff;\n",
       "  color: #f1f1f1;\n",
       "}\n",
       "#T_13ad5_row1_col1 {\n",
       "  background-color: #2c2cff;\n",
       "  color: #f1f1f1;\n",
       "}\n",
       "#T_13ad5_row1_col2 {\n",
       "  background-color: #1c1cff;\n",
       "  color: #f1f1f1;\n",
       "}\n",
       "#T_13ad5_row2_col0 {\n",
       "  background-color: #0202ff;\n",
       "  color: #f1f1f1;\n",
       "}\n",
       "#T_13ad5_row2_col1, #T_13ad5_row3_col0 {\n",
       "  background-color: #5252ff;\n",
       "  color: #f1f1f1;\n",
       "}\n",
       "#T_13ad5_row3_col2 {\n",
       "  background-color: #1414ff;\n",
       "  color: #f1f1f1;\n",
       "}\n",
       "#T_13ad5_row4_col0 {\n",
       "  background-color: #4040ff;\n",
       "  color: #f1f1f1;\n",
       "}\n",
       "#T_13ad5_row4_col1 {\n",
       "  background-color: #5656ff;\n",
       "  color: #f1f1f1;\n",
       "}\n",
       "#T_13ad5_row4_col2 {\n",
       "  background-color: #2a2aff;\n",
       "  color: #f1f1f1;\n",
       "}\n",
       "#T_13ad5_row5_col0 {\n",
       "  background-color: #ffe8e8;\n",
       "  color: #000000;\n",
       "}\n",
       "#T_13ad5_row5_col1 {\n",
       "  background-color: #2e2eff;\n",
       "  color: #f1f1f1;\n",
       "}\n",
       "#T_13ad5_row5_col2 {\n",
       "  background-color: #aaaaff;\n",
       "  color: #000000;\n",
       "}\n",
       "#T_13ad5_row6_col0, #T_13ad5_row6_col1, #T_13ad5_row6_col2 {\n",
       "  background-color: #ff0000;\n",
       "  color: #f1f1f1;\n",
       "}\n",
       "</style>\n",
       "<table id=\"T_13ad5\">\n",
       "  <thead>\n",
       "    <tr>\n",
       "      <th class=\"blank\" >&nbsp;</th>\n",
       "      <th class=\"index_name level0\" >Survived</th>\n",
       "      <th id=\"T_13ad5_level0_col0\" class=\"col_heading level0 col0\" >0</th>\n",
       "      <th id=\"T_13ad5_level0_col1\" class=\"col_heading level0 col1\" >1</th>\n",
       "      <th id=\"T_13ad5_level0_col2\" class=\"col_heading level0 col2\" >All</th>\n",
       "    </tr>\n",
       "    <tr>\n",
       "      <th class=\"index_name level0\" >Pclass</th>\n",
       "      <th class=\"index_name level1\" >Sex</th>\n",
       "      <th class=\"blank col0\" >&nbsp;</th>\n",
       "      <th class=\"blank col1\" >&nbsp;</th>\n",
       "      <th class=\"blank col2\" >&nbsp;</th>\n",
       "    </tr>\n",
       "  </thead>\n",
       "  <tbody>\n",
       "    <tr>\n",
       "      <th id=\"T_13ad5_level0_row0\" class=\"row_heading level0 row0\" rowspan=\"2\">1</th>\n",
       "      <th id=\"T_13ad5_level1_row0\" class=\"row_heading level1 row0\" >female</th>\n",
       "      <td id=\"T_13ad5_row0_col0\" class=\"data row0 col0\" >3</td>\n",
       "      <td id=\"T_13ad5_row0_col1\" class=\"data row0 col1\" >91</td>\n",
       "      <td id=\"T_13ad5_row0_col2\" class=\"data row0 col2\" >94</td>\n",
       "    </tr>\n",
       "    <tr>\n",
       "      <th id=\"T_13ad5_level1_row1\" class=\"row_heading level1 row1\" >male</th>\n",
       "      <td id=\"T_13ad5_row1_col0\" class=\"data row1 col0\" >77</td>\n",
       "      <td id=\"T_13ad5_row1_col1\" class=\"data row1 col1\" >45</td>\n",
       "      <td id=\"T_13ad5_row1_col2\" class=\"data row1 col2\" >122</td>\n",
       "    </tr>\n",
       "    <tr>\n",
       "      <th id=\"T_13ad5_level0_row2\" class=\"row_heading level0 row2\" rowspan=\"2\">2</th>\n",
       "      <th id=\"T_13ad5_level1_row2\" class=\"row_heading level1 row2\" >female</th>\n",
       "      <td id=\"T_13ad5_row2_col0\" class=\"data row2 col0\" >6</td>\n",
       "      <td id=\"T_13ad5_row2_col1\" class=\"data row2 col1\" >70</td>\n",
       "      <td id=\"T_13ad5_row2_col2\" class=\"data row2 col2\" >76</td>\n",
       "    </tr>\n",
       "    <tr>\n",
       "      <th id=\"T_13ad5_level1_row3\" class=\"row_heading level1 row3\" >male</th>\n",
       "      <td id=\"T_13ad5_row3_col0\" class=\"data row3 col0\" >91</td>\n",
       "      <td id=\"T_13ad5_row3_col1\" class=\"data row3 col1\" >17</td>\n",
       "      <td id=\"T_13ad5_row3_col2\" class=\"data row3 col2\" >108</td>\n",
       "    </tr>\n",
       "    <tr>\n",
       "      <th id=\"T_13ad5_level0_row4\" class=\"row_heading level0 row4\" rowspan=\"2\">3</th>\n",
       "      <th id=\"T_13ad5_level1_row4\" class=\"row_heading level1 row4\" >female</th>\n",
       "      <td id=\"T_13ad5_row4_col0\" class=\"data row4 col0\" >72</td>\n",
       "      <td id=\"T_13ad5_row4_col1\" class=\"data row4 col1\" >72</td>\n",
       "      <td id=\"T_13ad5_row4_col2\" class=\"data row4 col2\" >144</td>\n",
       "    </tr>\n",
       "    <tr>\n",
       "      <th id=\"T_13ad5_level1_row5\" class=\"row_heading level1 row5\" >male</th>\n",
       "      <td id=\"T_13ad5_row5_col0\" class=\"data row5 col0\" >300</td>\n",
       "      <td id=\"T_13ad5_row5_col1\" class=\"data row5 col1\" >47</td>\n",
       "      <td id=\"T_13ad5_row5_col2\" class=\"data row5 col2\" >347</td>\n",
       "    </tr>\n",
       "    <tr>\n",
       "      <th id=\"T_13ad5_level0_row6\" class=\"row_heading level0 row6\" >All</th>\n",
       "      <th id=\"T_13ad5_level1_row6\" class=\"row_heading level1 row6\" ></th>\n",
       "      <td id=\"T_13ad5_row6_col0\" class=\"data row6 col0\" >549</td>\n",
       "      <td id=\"T_13ad5_row6_col1\" class=\"data row6 col1\" >342</td>\n",
       "      <td id=\"T_13ad5_row6_col2\" class=\"data row6 col2\" >891</td>\n",
       "    </tr>\n",
       "  </tbody>\n",
       "</table>\n"
      ],
      "text/plain": [
       "<pandas.io.formats.style.Styler at 0x2466d0e81f0>"
      ]
     },
     "execution_count": 84,
     "metadata": {},
     "output_type": "execute_result"
    }
   ],
   "source": [
    "pd.crosstab([data.Pclass,data.Sex],data.Survived,margins=True).style.background_gradient(cmap='bwr')"
   ]
  },
  {
   "cell_type": "code",
   "execution_count": 85,
   "id": "d760a80f",
   "metadata": {
    "execution": {
     "iopub.execute_input": "2023-01-05T20:09:52.870173Z",
     "iopub.status.busy": "2023-01-05T20:09:52.869602Z",
     "iopub.status.idle": "2023-01-05T20:09:53.668469Z",
     "shell.execute_reply": "2023-01-05T20:09:53.667676Z",
     "shell.execute_reply.started": "2023-01-05T20:09:52.870141Z"
    }
   },
   "outputs": [
    {
     "data": {
      "image/png": "[encoded data removed]",
      "text/plain": [
       "<Figure size 458.9x360 with 1 Axes>"
      ]
     },
     "metadata": {},
     "output_type": "display_data"
    }
   ],
   "source": [
    "sb.factorplot('Pclass','Survived',hue='Sex',data=data)\n",
    "plt.show()"
   ]
  },
  {
   "cell_type": "markdown",
   "id": "0ed19f68",
   "metadata": {},
   "source": [
    "We see that women in the First Class were given the priority over others and hence 91 out of 94 women have survived.\n",
    "We also see that the men in the Third Class were given the least priority while rescue operations, only 47 out 347 men have survived."
   ]
  },
  {
   "cell_type": "markdown",
   "id": "73ad3970",
   "metadata": {},
   "source": [
    "### Survival Based on Age"
   ]
  },
  {
   "cell_type": "code",
   "execution_count": 86,
   "id": "1aeb10bb",
   "metadata": {
    "execution": {
     "iopub.execute_input": "2023-01-05T20:09:53.670548Z",
     "iopub.status.busy": "2023-01-05T20:09:53.669997Z",
     "iopub.status.idle": "2023-01-05T20:09:54.088220Z",
     "shell.execute_reply": "2023-01-05T20:09:54.086331Z",
     "shell.execute_reply.started": "2023-01-05T20:09:53.670515Z"
    }
   },
   "outputs": [
    {
     "data": {
      "image/png": "[encoded data removed]",
      "text/plain": [
       "<Figure size 720x360 with 2 Axes>"
      ]
     },
     "metadata": {},
     "output_type": "display_data"
    }
   ],
   "source": [
    "f,ax=plt.subplots(1,2,figsize=(10,5))\n",
    "sb.violinplot(\"Pclass\",\"Age\", hue=\"Survived\", data=data,split=True,ax=ax[0])\n",
    "ax[0].set_title('Pclass and Age vs Survived')\n",
    "ax[0].set_yticks(range(0,110,10))\n",
    "sb.violinplot(\"Sex\",\"Age\", hue=\"Survived\", data=data,split=True,ax=ax[1])\n",
    "ax[1].set_title('Sex and Age vs Survived')\n",
    "ax[1].set_yticks(range(0,110,10))\n",
    "plt.show()"
   ]
  },
  {
   "cell_type": "markdown",
   "id": "7d07bab5",
   "metadata": {},
   "source": [
    "We see that the Children have survived irrespective of Class and Sex.\n",
    "In Class 1 - Males of agegroup 20-50 survived more than Females. \n",
    "The chances of Survival have significantly decreased for Older males (>50)"
   ]
  },
  {
   "cell_type": "code",
   "execution_count": 87,
   "id": "7957a058",
   "metadata": {
    "execution": {
     "iopub.execute_input": "2023-01-05T20:09:54.093826Z",
     "iopub.status.busy": "2023-01-05T20:09:54.092969Z",
     "iopub.status.idle": "2023-01-05T20:09:54.104105Z",
     "shell.execute_reply": "2023-01-05T20:09:54.102218Z",
     "shell.execute_reply.started": "2023-01-05T20:09:54.093726Z"
    }
   },
   "outputs": [
    {
     "data": {
      "text/plain": [
       "177"
      ]
     },
     "execution_count": 87,
     "metadata": {},
     "output_type": "execute_result"
    }
   ],
   "source": [
    "data['Age'].isnull().sum()"
   ]
  },
  {
   "cell_type": "code",
   "execution_count": 88,
   "id": "0e2af63d",
   "metadata": {
    "execution": {
     "iopub.execute_input": "2023-01-05T20:09:54.107359Z",
     "iopub.status.busy": "2023-01-05T20:09:54.106089Z",
     "iopub.status.idle": "2023-01-05T20:09:54.128215Z",
     "shell.execute_reply": "2023-01-05T20:09:54.126647Z",
     "shell.execute_reply.started": "2023-01-05T20:09:54.107220Z"
    }
   },
   "outputs": [
    {
     "data": {
      "text/html": [
       "<div>\n",
       "<style scoped>\n",
       "    .dataframe tbody tr th:only-of-type {\n",
       "        vertical-align: middle;\n",
       "    }\n",
       "\n",
       "    .dataframe tbody tr th {\n",
       "        vertical-align: top;\n",
       "    }\n",
       "\n",
       "    .dataframe thead th {\n",
       "        text-align: right;\n",
       "    }\n",
       "</style>\n",
       "<table border=\"1\" class=\"dataframe\">\n",
       "  <thead>\n",
       "    <tr style=\"text-align: right;\">\n",
       "      <th></th>\n",
       "      <th>PassengerId</th>\n",
       "      <th>Survived</th>\n",
       "      <th>Pclass</th>\n",
       "      <th>Name</th>\n",
       "      <th>Sex</th>\n",
       "      <th>Age</th>\n",
       "      <th>SibSp</th>\n",
       "      <th>Parch</th>\n",
       "      <th>Ticket</th>\n",
       "      <th>Fare</th>\n",
       "      <th>Cabin</th>\n",
       "      <th>Embarked</th>\n",
       "    </tr>\n",
       "  </thead>\n",
       "  <tbody>\n",
       "    <tr>\n",
       "      <th>0</th>\n",
       "      <td>1</td>\n",
       "      <td>0</td>\n",
       "      <td>3</td>\n",
       "      <td>Braund, Mr. Owen Harris</td>\n",
       "      <td>male</td>\n",
       "      <td>22.0</td>\n",
       "      <td>1</td>\n",
       "      <td>0</td>\n",
       "      <td>A/5 21171</td>\n",
       "      <td>7.2500</td>\n",
       "      <td>NaN</td>\n",
       "      <td>S</td>\n",
       "    </tr>\n",
       "    <tr>\n",
       "      <th>1</th>\n",
       "      <td>2</td>\n",
       "      <td>1</td>\n",
       "      <td>1</td>\n",
       "      <td>Cumings, Mrs. John Bradley (Florence Briggs Th...</td>\n",
       "      <td>female</td>\n",
       "      <td>38.0</td>\n",
       "      <td>1</td>\n",
       "      <td>0</td>\n",
       "      <td>PC 17599</td>\n",
       "      <td>71.2833</td>\n",
       "      <td>C85</td>\n",
       "      <td>C</td>\n",
       "    </tr>\n",
       "    <tr>\n",
       "      <th>2</th>\n",
       "      <td>3</td>\n",
       "      <td>1</td>\n",
       "      <td>3</td>\n",
       "      <td>Heikkinen, Miss. Laina</td>\n",
       "      <td>female</td>\n",
       "      <td>26.0</td>\n",
       "      <td>0</td>\n",
       "      <td>0</td>\n",
       "      <td>STON/O2. 3101282</td>\n",
       "      <td>7.9250</td>\n",
       "      <td>NaN</td>\n",
       "      <td>S</td>\n",
       "    </tr>\n",
       "    <tr>\n",
       "      <th>3</th>\n",
       "      <td>4</td>\n",
       "      <td>1</td>\n",
       "      <td>1</td>\n",
       "      <td>Futrelle, Mrs. Jacques Heath (Lily May Peel)</td>\n",
       "      <td>female</td>\n",
       "      <td>35.0</td>\n",
       "      <td>1</td>\n",
       "      <td>0</td>\n",
       "      <td>113803</td>\n",
       "      <td>53.1000</td>\n",
       "      <td>C123</td>\n",
       "      <td>S</td>\n",
       "    </tr>\n",
       "    <tr>\n",
       "      <th>4</th>\n",
       "      <td>5</td>\n",
       "      <td>0</td>\n",
       "      <td>3</td>\n",
       "      <td>Allen, Mr. William Henry</td>\n",
       "      <td>male</td>\n",
       "      <td>35.0</td>\n",
       "      <td>0</td>\n",
       "      <td>0</td>\n",
       "      <td>373450</td>\n",
       "      <td>8.0500</td>\n",
       "      <td>NaN</td>\n",
       "      <td>S</td>\n",
       "    </tr>\n",
       "  </tbody>\n",
       "</table>\n",
       "</div>"
      ],
      "text/plain": [
       "   PassengerId  Survived  Pclass  \\\n",
       "0            1         0       3   \n",
       "1            2         1       1   \n",
       "2            3         1       3   \n",
       "3            4         1       1   \n",
       "4            5         0       3   \n",
       "\n",
       "                                                Name     Sex   Age  SibSp  \\\n",
       "0                            Braund, Mr. Owen Harris    male  22.0      1   \n",
       "1  Cumings, Mrs. John Bradley (Florence Briggs Th...  female  38.0      1   \n",
       "2                             Heikkinen, Miss. Laina  female  26.0      0   \n",
       "3       Futrelle, Mrs. Jacques Heath (Lily May Peel)  female  35.0      1   \n",
       "4                           Allen, Mr. William Henry    male  35.0      0   \n",
       "\n",
       "   Parch            Ticket     Fare Cabin Embarked  \n",
       "0      0         A/5 21171   7.2500   NaN        S  \n",
       "1      0          PC 17599  71.2833   C85        C  \n",
       "2      0  STON/O2. 3101282   7.9250   NaN        S  \n",
       "3      0            113803  53.1000  C123        S  \n",
       "4      0            373450   8.0500   NaN        S  "
      ]
     },
     "execution_count": 88,
     "metadata": {},
     "output_type": "execute_result"
    }
   ],
   "source": [
    "data.head()"
   ]
  },
  {
   "cell_type": "markdown",
   "id": "9e60d6bf",
   "metadata": {},
   "source": [
    "#### Let's categorise the data based on the salutations in the name, and then use the mean of ages in each category to fill in the NULL values"
   ]
  },
  {
   "cell_type": "code",
   "execution_count": 89,
   "id": "416a7237",
   "metadata": {
    "execution": {
     "iopub.execute_input": "2023-01-05T20:09:54.130136Z",
     "iopub.status.busy": "2023-01-05T20:09:54.129739Z",
     "iopub.status.idle": "2023-01-05T20:09:54.181188Z",
     "shell.execute_reply": "2023-01-05T20:09:54.179136Z",
     "shell.execute_reply.started": "2023-01-05T20:09:54.130095Z"
    }
   },
   "outputs": [],
   "source": [
    "data['Initial']=0\n",
    "for each in data:\n",
    "    data['Initial']=data.Name.str.extract('([A-Za-z]+)\\.') "
   ]
  },
  {
   "cell_type": "code",
   "execution_count": 90,
   "id": "fa81d702",
   "metadata": {
    "execution": {
     "iopub.execute_input": "2023-01-05T20:09:54.183748Z",
     "iopub.status.busy": "2023-01-05T20:09:54.183307Z",
     "iopub.status.idle": "2023-01-05T20:09:54.197153Z",
     "shell.execute_reply": "2023-01-05T20:09:54.196005Z",
     "shell.execute_reply.started": "2023-01-05T20:09:54.183691Z"
    }
   },
   "outputs": [
    {
     "data": {
      "text/plain": [
       "array(['Mr', 'Mrs', 'Miss', 'Master', 'Don', 'Rev', 'Dr', 'Mme', 'Ms',\n",
       "       'Major', 'Lady', 'Sir', 'Mlle', 'Col', 'Capt', 'Countess',\n",
       "       'Jonkheer'], dtype=object)"
      ]
     },
     "execution_count": 90,
     "metadata": {},
     "output_type": "execute_result"
    }
   ],
   "source": [
    "data['Initial'].unique()"
   ]
  },
  {
   "cell_type": "code",
   "execution_count": 91,
   "id": "084d2fe3",
   "metadata": {
    "execution": {
     "iopub.execute_input": "2023-01-05T20:09:54.198539Z",
     "iopub.status.busy": "2023-01-05T20:09:54.198236Z",
     "iopub.status.idle": "2023-01-05T20:09:54.240008Z",
     "shell.execute_reply": "2023-01-05T20:09:54.238407Z",
     "shell.execute_reply.started": "2023-01-05T20:09:54.198513Z"
    }
   },
   "outputs": [
    {
     "data": {
      "text/plain": [
       "array(['Mr', 'Mrs', 'Miss', 'Master', 'Ms', 'Col', 'Rev', 'Dr', 'Dona'],\n",
       "      dtype=object)"
      ]
     },
     "execution_count": 91,
     "metadata": {},
     "output_type": "execute_result"
    }
   ],
   "source": [
    "### Performing similar action on test data\n",
    "test_data['Initial']=0\n",
    "for each in data:\n",
    "    test_data['Initial']=test_data.Name.str.extract('([A-Za-z]+)\\.')\n",
    "test_data['Initial'].unique()    "
   ]
  },
  {
   "cell_type": "code",
   "execution_count": 92,
   "id": "568a5d45",
   "metadata": {
    "execution": {
     "iopub.execute_input": "2023-01-05T20:09:54.242061Z",
     "iopub.status.busy": "2023-01-05T20:09:54.241714Z",
     "iopub.status.idle": "2023-01-05T20:09:54.295751Z",
     "shell.execute_reply": "2023-01-05T20:09:54.294755Z",
     "shell.execute_reply.started": "2023-01-05T20:09:54.242034Z"
    }
   },
   "outputs": [
    {
     "data": {
      "text/html": [
       "<style type=\"text/css\">\n",
       "#T_86f66_row0_col0, #T_86f66_row0_col1, #T_86f66_row0_col2, #T_86f66_row1_col0, #T_86f66_row1_col1, #T_86f66_row1_col2, #T_86f66_row2_col0, #T_86f66_row2_col1, #T_86f66_row2_col2, #T_86f66_row3_col0, #T_86f66_row3_col1, #T_86f66_row3_col2, #T_86f66_row4_col0, #T_86f66_row5_col0, #T_86f66_row5_col1, #T_86f66_row5_col2, #T_86f66_row6_col0, #T_86f66_row6_col1, #T_86f66_row6_col2, #T_86f66_row7_col0, #T_86f66_row7_col1, #T_86f66_row7_col2, #T_86f66_row8_col0, #T_86f66_row9_col1, #T_86f66_row10_col1, #T_86f66_row10_col2, #T_86f66_row11_col0, #T_86f66_row11_col1, #T_86f66_row11_col2, #T_86f66_row12_col0, #T_86f66_row13_col1, #T_86f66_row14_col0, #T_86f66_row14_col1, #T_86f66_row14_col2, #T_86f66_row15_col0, #T_86f66_row16_col0, #T_86f66_row16_col1, #T_86f66_row16_col2 {\n",
       "  background-color: #0000ff;\n",
       "  color: #f1f1f1;\n",
       "}\n",
       "#T_86f66_row4_col1, #T_86f66_row15_col1 {\n",
       "  background-color: #0404ff;\n",
       "  color: #f1f1f1;\n",
       "}\n",
       "#T_86f66_row4_col2, #T_86f66_row10_col0, #T_86f66_row15_col2 {\n",
       "  background-color: #0202ff;\n",
       "  color: #f1f1f1;\n",
       "}\n",
       "#T_86f66_row8_col1 {\n",
       "  background-color: #2222ff;\n",
       "  color: #f1f1f1;\n",
       "}\n",
       "#T_86f66_row8_col2 {\n",
       "  background-color: #1616ff;\n",
       "  color: #f1f1f1;\n",
       "}\n",
       "#T_86f66_row9_col0, #T_86f66_row12_col2 {\n",
       "  background-color: #ffd6d6;\n",
       "  color: #000000;\n",
       "}\n",
       "#T_86f66_row9_col2 {\n",
       "  background-color: #6868ff;\n",
       "  color: #f1f1f1;\n",
       "}\n",
       "#T_86f66_row12_col1 {\n",
       "  background-color: #ff3434;\n",
       "  color: #f1f1f1;\n",
       "}\n",
       "#T_86f66_row13_col0 {\n",
       "  background-color: #cacaff;\n",
       "  color: #000000;\n",
       "}\n",
       "#T_86f66_row13_col2 {\n",
       "  background-color: #4646ff;\n",
       "  color: #f1f1f1;\n",
       "}\n",
       "#T_86f66_row17_col0, #T_86f66_row17_col1, #T_86f66_row17_col2 {\n",
       "  background-color: #ff0000;\n",
       "  color: #f1f1f1;\n",
       "}\n",
       "</style>\n",
       "<table id=\"T_86f66\">\n",
       "  <thead>\n",
       "    <tr>\n",
       "      <th class=\"index_name level0\" >Sex</th>\n",
       "      <th id=\"T_86f66_level0_col0\" class=\"col_heading level0 col0\" >female</th>\n",
       "      <th id=\"T_86f66_level0_col1\" class=\"col_heading level0 col1\" >male</th>\n",
       "      <th id=\"T_86f66_level0_col2\" class=\"col_heading level0 col2\" >All</th>\n",
       "    </tr>\n",
       "    <tr>\n",
       "      <th class=\"index_name level0\" >Initial</th>\n",
       "      <th class=\"blank col0\" >&nbsp;</th>\n",
       "      <th class=\"blank col1\" >&nbsp;</th>\n",
       "      <th class=\"blank col2\" >&nbsp;</th>\n",
       "    </tr>\n",
       "  </thead>\n",
       "  <tbody>\n",
       "    <tr>\n",
       "      <th id=\"T_86f66_level0_row0\" class=\"row_heading level0 row0\" >Capt</th>\n",
       "      <td id=\"T_86f66_row0_col0\" class=\"data row0 col0\" >0</td>\n",
       "      <td id=\"T_86f66_row0_col1\" class=\"data row0 col1\" >1</td>\n",
       "      <td id=\"T_86f66_row0_col2\" class=\"data row0 col2\" >1</td>\n",
       "    </tr>\n",
       "    <tr>\n",
       "      <th id=\"T_86f66_level0_row1\" class=\"row_heading level0 row1\" >Col</th>\n",
       "      <td id=\"T_86f66_row1_col0\" class=\"data row1 col0\" >0</td>\n",
       "      <td id=\"T_86f66_row1_col1\" class=\"data row1 col1\" >2</td>\n",
       "      <td id=\"T_86f66_row1_col2\" class=\"data row1 col2\" >2</td>\n",
       "    </tr>\n",
       "    <tr>\n",
       "      <th id=\"T_86f66_level0_row2\" class=\"row_heading level0 row2\" >Countess</th>\n",
       "      <td id=\"T_86f66_row2_col0\" class=\"data row2 col0\" >1</td>\n",
       "      <td id=\"T_86f66_row2_col1\" class=\"data row2 col1\" >0</td>\n",
       "      <td id=\"T_86f66_row2_col2\" class=\"data row2 col2\" >1</td>\n",
       "    </tr>\n",
       "    <tr>\n",
       "      <th id=\"T_86f66_level0_row3\" class=\"row_heading level0 row3\" >Don</th>\n",
       "      <td id=\"T_86f66_row3_col0\" class=\"data row3 col0\" >0</td>\n",
       "      <td id=\"T_86f66_row3_col1\" class=\"data row3 col1\" >1</td>\n",
       "      <td id=\"T_86f66_row3_col2\" class=\"data row3 col2\" >1</td>\n",
       "    </tr>\n",
       "    <tr>\n",
       "      <th id=\"T_86f66_level0_row4\" class=\"row_heading level0 row4\" >Dr</th>\n",
       "      <td id=\"T_86f66_row4_col0\" class=\"data row4 col0\" >1</td>\n",
       "      <td id=\"T_86f66_row4_col1\" class=\"data row4 col1\" >6</td>\n",
       "      <td id=\"T_86f66_row4_col2\" class=\"data row4 col2\" >7</td>\n",
       "    </tr>\n",
       "    <tr>\n",
       "      <th id=\"T_86f66_level0_row5\" class=\"row_heading level0 row5\" >Jonkheer</th>\n",
       "      <td id=\"T_86f66_row5_col0\" class=\"data row5 col0\" >0</td>\n",
       "      <td id=\"T_86f66_row5_col1\" class=\"data row5 col1\" >1</td>\n",
       "      <td id=\"T_86f66_row5_col2\" class=\"data row5 col2\" >1</td>\n",
       "    </tr>\n",
       "    <tr>\n",
       "      <th id=\"T_86f66_level0_row6\" class=\"row_heading level0 row6\" >Lady</th>\n",
       "      <td id=\"T_86f66_row6_col0\" class=\"data row6 col0\" >1</td>\n",
       "      <td id=\"T_86f66_row6_col1\" class=\"data row6 col1\" >0</td>\n",
       "      <td id=\"T_86f66_row6_col2\" class=\"data row6 col2\" >1</td>\n",
       "    </tr>\n",
       "    <tr>\n",
       "      <th id=\"T_86f66_level0_row7\" class=\"row_heading level0 row7\" >Major</th>\n",
       "      <td id=\"T_86f66_row7_col0\" class=\"data row7 col0\" >0</td>\n",
       "      <td id=\"T_86f66_row7_col1\" class=\"data row7 col1\" >2</td>\n",
       "      <td id=\"T_86f66_row7_col2\" class=\"data row7 col2\" >2</td>\n",
       "    </tr>\n",
       "    <tr>\n",
       "      <th id=\"T_86f66_level0_row8\" class=\"row_heading level0 row8\" >Master</th>\n",
       "      <td id=\"T_86f66_row8_col0\" class=\"data row8 col0\" >0</td>\n",
       "      <td id=\"T_86f66_row8_col1\" class=\"data row8 col1\" >40</td>\n",
       "      <td id=\"T_86f66_row8_col2\" class=\"data row8 col2\" >40</td>\n",
       "    </tr>\n",
       "    <tr>\n",
       "      <th id=\"T_86f66_level0_row9\" class=\"row_heading level0 row9\" >Miss</th>\n",
       "      <td id=\"T_86f66_row9_col0\" class=\"data row9 col0\" >182</td>\n",
       "      <td id=\"T_86f66_row9_col1\" class=\"data row9 col1\" >0</td>\n",
       "      <td id=\"T_86f66_row9_col2\" class=\"data row9 col2\" >182</td>\n",
       "    </tr>\n",
       "    <tr>\n",
       "      <th id=\"T_86f66_level0_row10\" class=\"row_heading level0 row10\" >Mlle</th>\n",
       "      <td id=\"T_86f66_row10_col0\" class=\"data row10 col0\" >2</td>\n",
       "      <td id=\"T_86f66_row10_col1\" class=\"data row10 col1\" >0</td>\n",
       "      <td id=\"T_86f66_row10_col2\" class=\"data row10 col2\" >2</td>\n",
       "    </tr>\n",
       "    <tr>\n",
       "      <th id=\"T_86f66_level0_row11\" class=\"row_heading level0 row11\" >Mme</th>\n",
       "      <td id=\"T_86f66_row11_col0\" class=\"data row11 col0\" >1</td>\n",
       "      <td id=\"T_86f66_row11_col1\" class=\"data row11 col1\" >0</td>\n",
       "      <td id=\"T_86f66_row11_col2\" class=\"data row11 col2\" >1</td>\n",
       "    </tr>\n",
       "    <tr>\n",
       "      <th id=\"T_86f66_level0_row12\" class=\"row_heading level0 row12\" >Mr</th>\n",
       "      <td id=\"T_86f66_row12_col0\" class=\"data row12 col0\" >0</td>\n",
       "      <td id=\"T_86f66_row12_col1\" class=\"data row12 col1\" >517</td>\n",
       "      <td id=\"T_86f66_row12_col2\" class=\"data row12 col2\" >517</td>\n",
       "    </tr>\n",
       "    <tr>\n",
       "      <th id=\"T_86f66_level0_row13\" class=\"row_heading level0 row13\" >Mrs</th>\n",
       "      <td id=\"T_86f66_row13_col0\" class=\"data row13 col0\" >125</td>\n",
       "      <td id=\"T_86f66_row13_col1\" class=\"data row13 col1\" >0</td>\n",
       "      <td id=\"T_86f66_row13_col2\" class=\"data row13 col2\" >125</td>\n",
       "    </tr>\n",
       "    <tr>\n",
       "      <th id=\"T_86f66_level0_row14\" class=\"row_heading level0 row14\" >Ms</th>\n",
       "      <td id=\"T_86f66_row14_col0\" class=\"data row14 col0\" >1</td>\n",
       "      <td id=\"T_86f66_row14_col1\" class=\"data row14 col1\" >0</td>\n",
       "      <td id=\"T_86f66_row14_col2\" class=\"data row14 col2\" >1</td>\n",
       "    </tr>\n",
       "    <tr>\n",
       "      <th id=\"T_86f66_level0_row15\" class=\"row_heading level0 row15\" >Rev</th>\n",
       "      <td id=\"T_86f66_row15_col0\" class=\"data row15 col0\" >0</td>\n",
       "      <td id=\"T_86f66_row15_col1\" class=\"data row15 col1\" >6</td>\n",
       "      <td id=\"T_86f66_row15_col2\" class=\"data row15 col2\" >6</td>\n",
       "    </tr>\n",
       "    <tr>\n",
       "      <th id=\"T_86f66_level0_row16\" class=\"row_heading level0 row16\" >Sir</th>\n",
       "      <td id=\"T_86f66_row16_col0\" class=\"data row16 col0\" >0</td>\n",
       "      <td id=\"T_86f66_row16_col1\" class=\"data row16 col1\" >1</td>\n",
       "      <td id=\"T_86f66_row16_col2\" class=\"data row16 col2\" >1</td>\n",
       "    </tr>\n",
       "    <tr>\n",
       "      <th id=\"T_86f66_level0_row17\" class=\"row_heading level0 row17\" >All</th>\n",
       "      <td id=\"T_86f66_row17_col0\" class=\"data row17 col0\" >314</td>\n",
       "      <td id=\"T_86f66_row17_col1\" class=\"data row17 col1\" >577</td>\n",
       "      <td id=\"T_86f66_row17_col2\" class=\"data row17 col2\" >891</td>\n",
       "    </tr>\n",
       "  </tbody>\n",
       "</table>\n"
      ],
      "text/plain": [
       "<pandas.io.formats.style.Styler at 0x24665520700>"
      ]
     },
     "execution_count": 92,
     "metadata": {},
     "output_type": "execute_result"
    }
   ],
   "source": [
    "pd.crosstab(data.Initial,data.Sex,margins=True).style.background_gradient(cmap='bwr')"
   ]
  },
  {
   "cell_type": "markdown",
   "id": "9ee65065",
   "metadata": {},
   "source": [
    "Let's correct the miss spelt values"
   ]
  },
  {
   "cell_type": "code",
   "execution_count": 93,
   "id": "38b50b24",
   "metadata": {
    "execution": {
     "iopub.execute_input": "2023-01-05T20:09:54.297930Z",
     "iopub.status.busy": "2023-01-05T20:09:54.297333Z",
     "iopub.status.idle": "2023-01-05T20:09:54.310428Z",
     "shell.execute_reply": "2023-01-05T20:09:54.307898Z",
     "shell.execute_reply.started": "2023-01-05T20:09:54.297894Z"
    }
   },
   "outputs": [],
   "source": [
    "data['Initial'].replace(['Mlle','Mme','Ms','Dr','Major','Lady','Countess','Jonkheer','Col','Rev','Capt','Sir','Don'],\n",
    "                        ['Miss','Miss','Miss','Mr','Mr','Mrs','Mrs','Other','Other','Other','Mr','Mr','Mr'],inplace=True)"
   ]
  },
  {
   "cell_type": "code",
   "execution_count": 94,
   "id": "d1547bb4",
   "metadata": {
    "execution": {
     "iopub.execute_input": "2023-01-05T20:09:54.319559Z",
     "iopub.status.busy": "2023-01-05T20:09:54.319069Z",
     "iopub.status.idle": "2023-01-05T20:09:54.328738Z",
     "shell.execute_reply": "2023-01-05T20:09:54.327259Z",
     "shell.execute_reply.started": "2023-01-05T20:09:54.319518Z"
    }
   },
   "outputs": [],
   "source": [
    "### Performing similar action on test data\n",
    "test_data['Initial'].replace(['Ms', 'Col', 'Rev', 'Dr', 'Dona'],\n",
    "                        ['Miss','Other','Other','Mr','Mr'],inplace=True)"
   ]
  },
  {
   "cell_type": "code",
   "execution_count": 95,
   "id": "d2da6620",
   "metadata": {
    "execution": {
     "iopub.execute_input": "2023-01-05T20:09:54.332184Z",
     "iopub.status.busy": "2023-01-05T20:09:54.331445Z",
     "iopub.status.idle": "2023-01-05T20:09:54.351139Z",
     "shell.execute_reply": "2023-01-05T20:09:54.349598Z",
     "shell.execute_reply.started": "2023-01-05T20:09:54.332141Z"
    }
   },
   "outputs": [
    {
     "data": {
      "text/plain": [
       "Initial\n",
       "Master     4.574167\n",
       "Miss      21.860000\n",
       "Mr        32.739609\n",
       "Mrs       35.981818\n",
       "Other     45.888889\n",
       "Name: Age, dtype: float64"
      ]
     },
     "execution_count": 95,
     "metadata": {},
     "output_type": "execute_result"
    }
   ],
   "source": [
    "data.groupby('Initial')['Age'].mean()"
   ]
  },
  {
   "cell_type": "code",
   "execution_count": 96,
   "id": "35517bef",
   "metadata": {
    "execution": {
     "iopub.execute_input": "2023-01-05T20:09:54.353178Z",
     "iopub.status.busy": "2023-01-05T20:09:54.352317Z",
     "iopub.status.idle": "2023-01-05T20:09:54.369459Z",
     "shell.execute_reply": "2023-01-05T20:09:54.368361Z",
     "shell.execute_reply.started": "2023-01-05T20:09:54.353110Z"
    }
   },
   "outputs": [
    {
     "data": {
      "text/plain": [
       "Initial\n",
       "Master     7.406471\n",
       "Miss      21.774844\n",
       "Mr        32.151351\n",
       "Mrs       38.903226\n",
       "Other     42.750000\n",
       "Name: Age, dtype: float64"
      ]
     },
     "execution_count": 96,
     "metadata": {},
     "output_type": "execute_result"
    }
   ],
   "source": [
    "### Performing similar action on test data\n",
    "test_data.groupby('Initial')['Age'].mean()"
   ]
  },
  {
   "cell_type": "markdown",
   "id": "71ca3666",
   "metadata": {},
   "source": [
    "Filling the NULL values with the mean age in each category"
   ]
  },
  {
   "cell_type": "code",
   "execution_count": 97,
   "id": "31243d73",
   "metadata": {
    "execution": {
     "iopub.execute_input": "2023-01-05T20:09:54.370998Z",
     "iopub.status.busy": "2023-01-05T20:09:54.370627Z",
     "iopub.status.idle": "2023-01-05T20:09:54.389372Z",
     "shell.execute_reply": "2023-01-05T20:09:54.387128Z",
     "shell.execute_reply.started": "2023-01-05T20:09:54.370964Z"
    }
   },
   "outputs": [],
   "source": [
    "data.loc[(data.Age.isnull())&(data.Initial=='Mr'),'Age']=33\n",
    "data.loc[(data.Age.isnull())&(data.Initial=='Mrs'),'Age']=36\n",
    "data.loc[(data.Age.isnull())&(data.Initial=='Master'),'Age']=5\n",
    "data.loc[(data.Age.isnull())&(data.Initial=='Miss'),'Age']=22\n",
    "data.loc[(data.Age.isnull())&(data.Initial=='Other'),'Age']=46"
   ]
  },
  {
   "cell_type": "code",
   "execution_count": 98,
   "id": "42101825",
   "metadata": {
    "execution": {
     "iopub.execute_input": "2023-01-05T20:09:54.390939Z",
     "iopub.status.busy": "2023-01-05T20:09:54.390561Z",
     "iopub.status.idle": "2023-01-05T20:09:54.409507Z",
     "shell.execute_reply": "2023-01-05T20:09:54.408077Z",
     "shell.execute_reply.started": "2023-01-05T20:09:54.390905Z"
    }
   },
   "outputs": [],
   "source": [
    "### Performing similar action on test data\n",
    "test_data.loc[(test_data.Age.isnull())&(test_data.Initial=='Mr'),'Age']=32\n",
    "test_data.loc[(test_data.Age.isnull())&(test_data.Initial=='Mrs'),'Age']=39\n",
    "test_data.loc[(test_data.Age.isnull())&(test_data.Initial=='Master'),'Age']=7\n",
    "test_data.loc[(test_data.Age.isnull())&(test_data.Initial=='Miss'),'Age']=22\n",
    "test_data.loc[(test_data.Age.isnull())&(test_data.Initial=='Other'),'Age']=43"
   ]
  },
  {
   "cell_type": "code",
   "execution_count": 99,
   "id": "d18b2d50",
   "metadata": {
    "execution": {
     "iopub.execute_input": "2023-01-05T20:09:54.411032Z",
     "iopub.status.busy": "2023-01-05T20:09:54.410658Z",
     "iopub.status.idle": "2023-01-05T20:09:54.425685Z",
     "shell.execute_reply": "2023-01-05T20:09:54.424072Z",
     "shell.execute_reply.started": "2023-01-05T20:09:54.410995Z"
    }
   },
   "outputs": [
    {
     "data": {
      "text/plain": [
       "0"
      ]
     },
     "execution_count": 99,
     "metadata": {},
     "output_type": "execute_result"
    }
   ],
   "source": [
    "data['Age'].isnull().sum()"
   ]
  },
  {
   "cell_type": "code",
   "execution_count": 100,
   "id": "48bf1b1a",
   "metadata": {
    "execution": {
     "iopub.execute_input": "2023-01-05T20:09:54.427543Z",
     "iopub.status.busy": "2023-01-05T20:09:54.426986Z",
     "iopub.status.idle": "2023-01-05T20:09:54.783886Z",
     "shell.execute_reply": "2023-01-05T20:09:54.782798Z",
     "shell.execute_reply.started": "2023-01-05T20:09:54.427500Z"
    }
   },
   "outputs": [
    {
     "data": {
      "image/png": "[encoded data removed]",
      "text/plain": [
       "<Figure size 720x360 with 2 Axes>"
      ]
     },
     "metadata": {},
     "output_type": "display_data"
    }
   ],
   "source": [
    "f, ax = plt.subplots(1,2, figsize=(10,5))\n",
    "ax[0].hist(data[data['Survived']==1]['Age'], color='#60b066')\n",
    "ax[0].set_title('Survived vs Age', color='#282926')\n",
    "ax[0].set_xlabel('Age')\n",
    "ax[0].set_ylabel('Count')\n",
    "ax[1].hist(data[data['Survived']==0]['Age'], color='#F44336')\n",
    "ax[1].set_title('Died vs Age', color='#282926')\n",
    "ax[1].set_xlabel('Age')\n",
    "ax[1].set_ylabel('Count')\n",
    "\n",
    "plt.show()"
   ]
  },
  {
   "cell_type": "markdown",
   "id": "fe691313",
   "metadata": {},
   "source": [
    "We see that the maximum number of individuals who died were of age group 30-40. \n",
    "We also see that maximum number of chidren were saved (Because Womwn and Children have been given high priority) "
   ]
  },
  {
   "cell_type": "code",
   "execution_count": 101,
   "id": "472a8a7d",
   "metadata": {
    "execution": {
     "iopub.execute_input": "2023-01-05T20:09:54.786985Z",
     "iopub.status.busy": "2023-01-05T20:09:54.786429Z",
     "iopub.status.idle": "2023-01-05T20:09:55.162292Z",
     "shell.execute_reply": "2023-01-05T20:09:55.160276Z",
     "shell.execute_reply.started": "2023-01-05T20:09:54.786949Z"
    }
   },
   "outputs": [
    {
     "data": {
      "image/png": "[encoded data removed]",
      "text/plain": [
       "<Figure size 360x360 with 1 Axes>"
      ]
     },
     "metadata": {},
     "output_type": "display_data"
    }
   ],
   "source": [
    "sb.factorplot('Initial','Survived',data=data)\n",
    "plt.show()"
   ]
  },
  {
   "cell_type": "markdown",
   "id": "16267a6d",
   "metadata": {},
   "source": [
    "The above factor plot also confirms women and children were given priority."
   ]
  },
  {
   "cell_type": "markdown",
   "id": "fe84529c",
   "metadata": {},
   "source": [
    "### Survival based on Embarked"
   ]
  },
  {
   "cell_type": "code",
   "execution_count": 102,
   "id": "f8093525",
   "metadata": {
    "execution": {
     "iopub.execute_input": "2023-01-05T20:09:55.165183Z",
     "iopub.status.busy": "2023-01-05T20:09:55.164671Z",
     "iopub.status.idle": "2023-01-05T20:09:55.454803Z",
     "shell.execute_reply": "2023-01-05T20:09:55.453176Z",
     "shell.execute_reply.started": "2023-01-05T20:09:55.165142Z"
    }
   },
   "outputs": [
    {
     "data": {
      "image/png": "[encoded data removed]",
      "text/plain": [
       "<Figure size 720x360 with 2 Axes>"
      ]
     },
     "metadata": {},
     "output_type": "display_data"
    }
   ],
   "source": [
    "f, ax = plt.subplots(1,2, figsize=(10,5))\n",
    "sb.countplot(data.Embarked, ax=ax[0])\n",
    "ax[0].set_title('Embarked Distribution', color='#282926')\n",
    "sb.countplot('Embarked', hue='Survived', data=data, ax=ax[1])\n",
    "ax[1].set_title('Survival vs Embarked', color='#282926')\n",
    "\n",
    "plt.show()"
   ]
  },
  {
   "cell_type": "markdown",
   "id": "0fe7b39a",
   "metadata": {},
   "source": [
    "We see maximum number of people have boarded from S (Southampton)\n",
    "\n",
    "Earlier we saw NULL values in Embarked, we shall replace them with Southampton."
   ]
  },
  {
   "cell_type": "code",
   "execution_count": 103,
   "id": "8cc6e9d7",
   "metadata": {
    "execution": {
     "iopub.execute_input": "2023-01-05T20:09:55.457121Z",
     "iopub.status.busy": "2023-01-05T20:09:55.456523Z",
     "iopub.status.idle": "2023-01-05T20:09:55.465392Z",
     "shell.execute_reply": "2023-01-05T20:09:55.463463Z",
     "shell.execute_reply.started": "2023-01-05T20:09:55.457082Z"
    }
   },
   "outputs": [
    {
     "data": {
      "text/plain": [
       "2"
      ]
     },
     "execution_count": 103,
     "metadata": {},
     "output_type": "execute_result"
    }
   ],
   "source": [
    "data['Embarked'].isnull().sum()"
   ]
  },
  {
   "cell_type": "code",
   "execution_count": 104,
   "id": "68e6de11",
   "metadata": {
    "execution": {
     "iopub.execute_input": "2023-01-05T20:09:55.467849Z",
     "iopub.status.busy": "2023-01-05T20:09:55.467233Z",
     "iopub.status.idle": "2023-01-05T20:09:55.486066Z",
     "shell.execute_reply": "2023-01-05T20:09:55.483471Z",
     "shell.execute_reply.started": "2023-01-05T20:09:55.467815Z"
    }
   },
   "outputs": [],
   "source": [
    "data['Embarked'].fillna('S', inplace=True)"
   ]
  },
  {
   "cell_type": "code",
   "execution_count": 105,
   "id": "b0e435b4",
   "metadata": {
    "execution": {
     "iopub.execute_input": "2023-01-05T20:09:55.489412Z",
     "iopub.status.busy": "2023-01-05T20:09:55.488297Z",
     "iopub.status.idle": "2023-01-05T20:09:55.503952Z",
     "shell.execute_reply": "2023-01-05T20:09:55.501960Z",
     "shell.execute_reply.started": "2023-01-05T20:09:55.489360Z"
    }
   },
   "outputs": [
    {
     "data": {
      "text/plain": [
       "0"
      ]
     },
     "execution_count": 105,
     "metadata": {},
     "output_type": "execute_result"
    }
   ],
   "source": [
    "data['Embarked'].isnull().sum()"
   ]
  },
  {
   "cell_type": "markdown",
   "id": "82e62376",
   "metadata": {},
   "source": [
    "### Survival based on SibSp and Parch"
   ]
  },
  {
   "cell_type": "code",
   "execution_count": 106,
   "id": "4cc5ebd6",
   "metadata": {
    "execution": {
     "iopub.execute_input": "2023-01-05T20:09:55.507550Z",
     "iopub.status.busy": "2023-01-05T20:09:55.506593Z",
     "iopub.status.idle": "2023-01-05T20:09:56.209558Z",
     "shell.execute_reply": "2023-01-05T20:09:56.208777Z",
     "shell.execute_reply.started": "2023-01-05T20:09:55.507482Z"
    }
   },
   "outputs": [
    {
     "data": {
      "image/png": "[encoded data removed]",
      "text/plain": [
       "<Figure size 360x360 with 1 Axes>"
      ]
     },
     "metadata": {},
     "output_type": "display_data"
    },
    {
     "data": {
      "image/png": "[encoded data removed]",
      "text/plain": [
       "<Figure size 360x360 with 1 Axes>"
      ]
     },
     "metadata": {},
     "output_type": "display_data"
    }
   ],
   "source": [
    "ax=sb.factorplot('SibSp','Survived',data=data)\n",
    "ax.fig.suptitle('SibSp vs Survived', color='#292826')\n",
    "plt.show()\n",
    "\n",
    "ax=sb.factorplot('Parch','Survived',data=data)\n",
    "ax.fig.suptitle('Parch vs Survived', color='#292826')\n",
    "plt.show()"
   ]
  },
  {
   "cell_type": "markdown",
   "id": "a02ea607",
   "metadata": {},
   "source": [
    "We see that survival is maximum with those who travelled alone, families with 5+ members have not been able to survive."
   ]
  },
  {
   "cell_type": "markdown",
   "id": "14003a14",
   "metadata": {},
   "source": [
    "### Fare"
   ]
  },
  {
   "cell_type": "code",
   "execution_count": 107,
   "id": "6cf6f02d",
   "metadata": {
    "execution": {
     "iopub.execute_input": "2023-01-05T20:09:56.211939Z",
     "iopub.status.busy": "2023-01-05T20:09:56.211020Z",
     "iopub.status.idle": "2023-01-05T20:09:56.472193Z",
     "shell.execute_reply": "2023-01-05T20:09:56.470482Z",
     "shell.execute_reply.started": "2023-01-05T20:09:56.211901Z"
    }
   },
   "outputs": [
    {
     "data": {
      "image/png": "[encoded data removed]",
      "text/plain": [
       "<Figure size 432x288 with 1 Axes>"
      ]
     },
     "metadata": {},
     "output_type": "display_data"
    }
   ],
   "source": [
    "sb.distplot(data['Fare'])\n",
    "plt.show()"
   ]
  },
  {
   "cell_type": "code",
   "execution_count": 108,
   "id": "20a4f14d",
   "metadata": {
    "execution": {
     "iopub.execute_input": "2023-01-05T20:09:56.476043Z",
     "iopub.status.busy": "2023-01-05T20:09:56.475469Z",
     "iopub.status.idle": "2023-01-05T20:09:56.485897Z",
     "shell.execute_reply": "2023-01-05T20:09:56.484552Z",
     "shell.execute_reply.started": "2023-01-05T20:09:56.475990Z"
    }
   },
   "outputs": [
    {
     "name": "stdout",
     "output_type": "stream",
     "text": [
      "Maximum Fare: 512.3292\n",
      "Minimum Fare: 0.0\n",
      "Average Fare: 32.2042079685746\n"
     ]
    }
   ],
   "source": [
    "print(\"Maximum Fare: \" + str(data['Fare'].max()))\n",
    "print(\"Minimum Fare: \" + str(data['Fare'].min()))\n",
    "print(\"Average Fare: \" + str(data['Fare'].mean()))\n"
   ]
  },
  {
   "cell_type": "markdown",
   "id": "d42ce530",
   "metadata": {},
   "source": [
    "# Feature Engineering and Data Cleaning"
   ]
  },
  {
   "cell_type": "markdown",
   "id": "fca43085",
   "metadata": {},
   "source": [
    "#### First Let's Convert Continuous Values into Categorical Values as this leads to better performance of the model"
   ]
  },
  {
   "cell_type": "markdown",
   "id": "4925f589",
   "metadata": {},
   "source": [
    "### Age Groups"
   ]
  },
  {
   "cell_type": "code",
   "execution_count": 109,
   "id": "931989df",
   "metadata": {
    "execution": {
     "iopub.execute_input": "2023-01-05T20:09:56.490138Z",
     "iopub.status.busy": "2023-01-05T20:09:56.488866Z",
     "iopub.status.idle": "2023-01-05T20:09:56.502801Z",
     "shell.execute_reply": "2023-01-05T20:09:56.501292Z",
     "shell.execute_reply.started": "2023-01-05T20:09:56.490095Z"
    }
   },
   "outputs": [
    {
     "name": "stdout",
     "output_type": "stream",
     "text": [
      "Maximum Age: 80.0\n",
      "Minimum Age: 0.42\n",
      "Average Age: 29.841941638608304\n"
     ]
    }
   ],
   "source": [
    "print(\"Maximum Age: \" + str(data['Age'].max()))\n",
    "print(\"Minimum Age: \" + str(data['Age'].min()))\n",
    "print(\"Average Age: \" + str(data['Age'].mean()))"
   ]
  },
  {
   "cell_type": "markdown",
   "id": "1cc3bdf0",
   "metadata": {},
   "source": [
    "we have people from age range 0.4 to 80 years, let's categorize them into different age groups."
   ]
  },
  {
   "cell_type": "code",
   "execution_count": 110,
   "id": "1030e442",
   "metadata": {
    "execution": {
     "iopub.execute_input": "2023-01-05T20:09:56.506595Z",
     "iopub.status.busy": "2023-01-05T20:09:56.504555Z",
     "iopub.status.idle": "2023-01-05T20:09:56.526458Z",
     "shell.execute_reply": "2023-01-05T20:09:56.523772Z",
     "shell.execute_reply.started": "2023-01-05T20:09:56.506540Z"
    }
   },
   "outputs": [],
   "source": [
    "data['Age_Group']=0\n",
    "data.loc[data['Age']<=16,'Age_Group']=0\n",
    "data.loc[(data['Age']>16)&(data['Age']<=32),'Age_Group']=1\n",
    "data.loc[(data['Age']>32)&(data['Age']<=48),'Age_Group']=2\n",
    "data.loc[(data['Age']>48)&(data['Age']<=64),'Age_Group']=3\n",
    "data.loc[data['Age']>64,'Age_Group']=4"
   ]
  },
  {
   "cell_type": "code",
   "execution_count": 111,
   "id": "d8015389",
   "metadata": {
    "execution": {
     "iopub.execute_input": "2023-01-05T20:09:56.529910Z",
     "iopub.status.busy": "2023-01-05T20:09:56.529348Z",
     "iopub.status.idle": "2023-01-05T20:09:56.548168Z",
     "shell.execute_reply": "2023-01-05T20:09:56.545514Z",
     "shell.execute_reply.started": "2023-01-05T20:09:56.529861Z"
    }
   },
   "outputs": [],
   "source": [
    "### Performing similar action on test data\n",
    "test_data['Age_Group']=0\n",
    "test_data.loc[test_data['Age']<=16,'Age_Group']=0\n",
    "test_data.loc[(test_data['Age']>16)&(test_data['Age']<=32),'Age_Group']=1\n",
    "test_data.loc[(test_data['Age']>32)&(test_data['Age']<=48),'Age_Group']=2\n",
    "test_data.loc[(test_data['Age']>48)&(test_data['Age']<=64),'Age_Group']=3\n",
    "test_data.loc[test_data['Age']>64,'Age_Group']=4"
   ]
  },
  {
   "cell_type": "code",
   "execution_count": 112,
   "id": "a029d367",
   "metadata": {
    "execution": {
     "iopub.execute_input": "2023-01-05T20:09:56.551399Z",
     "iopub.status.busy": "2023-01-05T20:09:56.550826Z",
     "iopub.status.idle": "2023-01-05T20:09:56.574813Z",
     "shell.execute_reply": "2023-01-05T20:09:56.573086Z",
     "shell.execute_reply.started": "2023-01-05T20:09:56.551348Z"
    }
   },
   "outputs": [
    {
     "data": {
      "text/html": [
       "<div>\n",
       "<style scoped>\n",
       "    .dataframe tbody tr th:only-of-type {\n",
       "        vertical-align: middle;\n",
       "    }\n",
       "\n",
       "    .dataframe tbody tr th {\n",
       "        vertical-align: top;\n",
       "    }\n",
       "\n",
       "    .dataframe thead th {\n",
       "        text-align: right;\n",
       "    }\n",
       "</style>\n",
       "<table border=\"1\" class=\"dataframe\">\n",
       "  <thead>\n",
       "    <tr style=\"text-align: right;\">\n",
       "      <th></th>\n",
       "      <th>PassengerId</th>\n",
       "      <th>Survived</th>\n",
       "      <th>Pclass</th>\n",
       "      <th>Name</th>\n",
       "      <th>Sex</th>\n",
       "      <th>Age</th>\n",
       "      <th>SibSp</th>\n",
       "      <th>Parch</th>\n",
       "      <th>Ticket</th>\n",
       "      <th>Fare</th>\n",
       "      <th>Cabin</th>\n",
       "      <th>Embarked</th>\n",
       "      <th>Initial</th>\n",
       "      <th>Age_Group</th>\n",
       "    </tr>\n",
       "  </thead>\n",
       "  <tbody>\n",
       "    <tr>\n",
       "      <th>0</th>\n",
       "      <td>1</td>\n",
       "      <td>0</td>\n",
       "      <td>3</td>\n",
       "      <td>Braund, Mr. Owen Harris</td>\n",
       "      <td>male</td>\n",
       "      <td>22.0</td>\n",
       "      <td>1</td>\n",
       "      <td>0</td>\n",
       "      <td>A/5 21171</td>\n",
       "      <td>7.2500</td>\n",
       "      <td>NaN</td>\n",
       "      <td>S</td>\n",
       "      <td>Mr</td>\n",
       "      <td>1</td>\n",
       "    </tr>\n",
       "    <tr>\n",
       "      <th>1</th>\n",
       "      <td>2</td>\n",
       "      <td>1</td>\n",
       "      <td>1</td>\n",
       "      <td>Cumings, Mrs. John Bradley (Florence Briggs Th...</td>\n",
       "      <td>female</td>\n",
       "      <td>38.0</td>\n",
       "      <td>1</td>\n",
       "      <td>0</td>\n",
       "      <td>PC 17599</td>\n",
       "      <td>71.2833</td>\n",
       "      <td>C85</td>\n",
       "      <td>C</td>\n",
       "      <td>Mrs</td>\n",
       "      <td>2</td>\n",
       "    </tr>\n",
       "    <tr>\n",
       "      <th>2</th>\n",
       "      <td>3</td>\n",
       "      <td>1</td>\n",
       "      <td>3</td>\n",
       "      <td>Heikkinen, Miss. Laina</td>\n",
       "      <td>female</td>\n",
       "      <td>26.0</td>\n",
       "      <td>0</td>\n",
       "      <td>0</td>\n",
       "      <td>STON/O2. 3101282</td>\n",
       "      <td>7.9250</td>\n",
       "      <td>NaN</td>\n",
       "      <td>S</td>\n",
       "      <td>Miss</td>\n",
       "      <td>1</td>\n",
       "    </tr>\n",
       "    <tr>\n",
       "      <th>3</th>\n",
       "      <td>4</td>\n",
       "      <td>1</td>\n",
       "      <td>1</td>\n",
       "      <td>Futrelle, Mrs. Jacques Heath (Lily May Peel)</td>\n",
       "      <td>female</td>\n",
       "      <td>35.0</td>\n",
       "      <td>1</td>\n",
       "      <td>0</td>\n",
       "      <td>113803</td>\n",
       "      <td>53.1000</td>\n",
       "      <td>C123</td>\n",
       "      <td>S</td>\n",
       "      <td>Mrs</td>\n",
       "      <td>2</td>\n",
       "    </tr>\n",
       "    <tr>\n",
       "      <th>4</th>\n",
       "      <td>5</td>\n",
       "      <td>0</td>\n",
       "      <td>3</td>\n",
       "      <td>Allen, Mr. William Henry</td>\n",
       "      <td>male</td>\n",
       "      <td>35.0</td>\n",
       "      <td>0</td>\n",
       "      <td>0</td>\n",
       "      <td>373450</td>\n",
       "      <td>8.0500</td>\n",
       "      <td>NaN</td>\n",
       "      <td>S</td>\n",
       "      <td>Mr</td>\n",
       "      <td>2</td>\n",
       "    </tr>\n",
       "  </tbody>\n",
       "</table>\n",
       "</div>"
      ],
      "text/plain": [
       "   PassengerId  Survived  Pclass  \\\n",
       "0            1         0       3   \n",
       "1            2         1       1   \n",
       "2            3         1       3   \n",
       "3            4         1       1   \n",
       "4            5         0       3   \n",
       "\n",
       "                                                Name     Sex   Age  SibSp  \\\n",
       "0                            Braund, Mr. Owen Harris    male  22.0      1   \n",
       "1  Cumings, Mrs. John Bradley (Florence Briggs Th...  female  38.0      1   \n",
       "2                             Heikkinen, Miss. Laina  female  26.0      0   \n",
       "3       Futrelle, Mrs. Jacques Heath (Lily May Peel)  female  35.0      1   \n",
       "4                           Allen, Mr. William Henry    male  35.0      0   \n",
       "\n",
       "   Parch            Ticket     Fare Cabin Embarked Initial  Age_Group  \n",
       "0      0         A/5 21171   7.2500   NaN        S      Mr          1  \n",
       "1      0          PC 17599  71.2833   C85        C     Mrs          2  \n",
       "2      0  STON/O2. 3101282   7.9250   NaN        S    Miss          1  \n",
       "3      0            113803  53.1000  C123        S     Mrs          2  \n",
       "4      0            373450   8.0500   NaN        S      Mr          2  "
      ]
     },
     "execution_count": 112,
     "metadata": {},
     "output_type": "execute_result"
    }
   ],
   "source": [
    "data.head()"
   ]
  },
  {
   "cell_type": "code",
   "execution_count": 113,
   "id": "94f66444",
   "metadata": {
    "execution": {
     "iopub.execute_input": "2023-01-05T20:09:56.577096Z",
     "iopub.status.busy": "2023-01-05T20:09:56.576612Z",
     "iopub.status.idle": "2023-01-05T20:09:56.599153Z",
     "shell.execute_reply": "2023-01-05T20:09:56.597212Z",
     "shell.execute_reply.started": "2023-01-05T20:09:56.577057Z"
    }
   },
   "outputs": [
    {
     "data": {
      "text/html": [
       "<style type=\"text/css\">\n",
       "#T_abdf3_row0_col0 {\n",
       "  background-color: #ff0000;\n",
       "  color: #f1f1f1;\n",
       "}\n",
       "#T_abdf3_row1_col0 {\n",
       "  background-color: #ff4e4e;\n",
       "  color: #f1f1f1;\n",
       "}\n",
       "#T_abdf3_row2_col0 {\n",
       "  background-color: #8080ff;\n",
       "  color: #f1f1f1;\n",
       "}\n",
       "#T_abdf3_row3_col0 {\n",
       "  background-color: #5050ff;\n",
       "  color: #f1f1f1;\n",
       "}\n",
       "#T_abdf3_row4_col0 {\n",
       "  background-color: #0000ff;\n",
       "  color: #f1f1f1;\n",
       "}\n",
       "</style>\n",
       "<table id=\"T_abdf3\">\n",
       "  <thead>\n",
       "    <tr>\n",
       "      <th class=\"blank level0\" >&nbsp;</th>\n",
       "      <th id=\"T_abdf3_level0_col0\" class=\"col_heading level0 col0\" >Age_Group</th>\n",
       "    </tr>\n",
       "  </thead>\n",
       "  <tbody>\n",
       "    <tr>\n",
       "      <th id=\"T_abdf3_level0_row0\" class=\"row_heading level0 row0\" >1</th>\n",
       "      <td id=\"T_abdf3_row0_col0\" class=\"data row0 col0\" >382</td>\n",
       "    </tr>\n",
       "    <tr>\n",
       "      <th id=\"T_abdf3_level0_row1\" class=\"row_heading level0 row1\" >2</th>\n",
       "      <td id=\"T_abdf3_row1_col0\" class=\"data row1 col0\" >325</td>\n",
       "    </tr>\n",
       "    <tr>\n",
       "      <th id=\"T_abdf3_level0_row2\" class=\"row_heading level0 row2\" >0</th>\n",
       "      <td id=\"T_abdf3_row2_col0\" class=\"data row2 col0\" >104</td>\n",
       "    </tr>\n",
       "    <tr>\n",
       "      <th id=\"T_abdf3_level0_row3\" class=\"row_heading level0 row3\" >3</th>\n",
       "      <td id=\"T_abdf3_row3_col0\" class=\"data row3 col0\" >69</td>\n",
       "    </tr>\n",
       "    <tr>\n",
       "      <th id=\"T_abdf3_level0_row4\" class=\"row_heading level0 row4\" >4</th>\n",
       "      <td id=\"T_abdf3_row4_col0\" class=\"data row4 col0\" >11</td>\n",
       "    </tr>\n",
       "  </tbody>\n",
       "</table>\n"
      ],
      "text/plain": [
       "<pandas.io.formats.style.Styler at 0x2466af049a0>"
      ]
     },
     "execution_count": 113,
     "metadata": {},
     "output_type": "execute_result"
    }
   ],
   "source": [
    "data['Age_Group'].value_counts().to_frame().style.background_gradient(cmap='bwr')"
   ]
  },
  {
   "cell_type": "code",
   "execution_count": 114,
   "id": "7ff8700d",
   "metadata": {
    "execution": {
     "iopub.execute_input": "2023-01-05T20:09:56.602191Z",
     "iopub.status.busy": "2023-01-05T20:09:56.601527Z",
     "iopub.status.idle": "2023-01-05T20:09:56.627837Z",
     "shell.execute_reply": "2023-01-05T20:09:56.625916Z",
     "shell.execute_reply.started": "2023-01-05T20:09:56.602136Z"
    }
   },
   "outputs": [
    {
     "data": {
      "text/html": [
       "<style type=\"text/css\">\n",
       "#T_29f91_row0_col0 {\n",
       "  background-color: #ff0000;\n",
       "  color: #f1f1f1;\n",
       "}\n",
       "#T_29f91_row1_col0 {\n",
       "  background-color: #b6b6ff;\n",
       "  color: #000000;\n",
       "}\n",
       "#T_29f91_row2_col0 {\n",
       "  background-color: #4a4aff;\n",
       "  color: #f1f1f1;\n",
       "}\n",
       "#T_29f91_row3_col0 {\n",
       "  background-color: #4848ff;\n",
       "  color: #f1f1f1;\n",
       "}\n",
       "#T_29f91_row4_col0 {\n",
       "  background-color: #0000ff;\n",
       "  color: #f1f1f1;\n",
       "}\n",
       "</style>\n",
       "<table id=\"T_29f91\">\n",
       "  <thead>\n",
       "    <tr>\n",
       "      <th class=\"blank level0\" >&nbsp;</th>\n",
       "      <th id=\"T_29f91_level0_col0\" class=\"col_heading level0 col0\" >Age_Group</th>\n",
       "    </tr>\n",
       "  </thead>\n",
       "  <tbody>\n",
       "    <tr>\n",
       "      <th id=\"T_29f91_level0_row0\" class=\"row_heading level0 row0\" >1</th>\n",
       "      <td id=\"T_29f91_row0_col0\" class=\"data row0 col0\" >250</td>\n",
       "    </tr>\n",
       "    <tr>\n",
       "      <th id=\"T_29f91_level0_row1\" class=\"row_heading level0 row1\" >2</th>\n",
       "      <td id=\"T_29f91_row1_col0\" class=\"data row1 col0\" >91</td>\n",
       "    </tr>\n",
       "    <tr>\n",
       "      <th id=\"T_29f91_level0_row2\" class=\"row_heading level0 row2\" >0</th>\n",
       "      <td id=\"T_29f91_row2_col0\" class=\"data row2 col0\" >38</td>\n",
       "    </tr>\n",
       "    <tr>\n",
       "      <th id=\"T_29f91_level0_row3\" class=\"row_heading level0 row3\" >3</th>\n",
       "      <td id=\"T_29f91_row3_col0\" class=\"data row3 col0\" >37</td>\n",
       "    </tr>\n",
       "    <tr>\n",
       "      <th id=\"T_29f91_level0_row4\" class=\"row_heading level0 row4\" >4</th>\n",
       "      <td id=\"T_29f91_row4_col0\" class=\"data row4 col0\" >2</td>\n",
       "    </tr>\n",
       "  </tbody>\n",
       "</table>\n"
      ],
      "text/plain": [
       "<pandas.io.formats.style.Styler at 0x2466ce41940>"
      ]
     },
     "execution_count": 114,
     "metadata": {},
     "output_type": "execute_result"
    }
   ],
   "source": [
    "test_data['Age_Group'].value_counts().to_frame().style.background_gradient(cmap='bwr')"
   ]
  },
  {
   "cell_type": "code",
   "execution_count": 115,
   "id": "6e7844fd",
   "metadata": {
    "execution": {
     "iopub.execute_input": "2023-01-05T20:09:56.634003Z",
     "iopub.status.busy": "2023-01-05T20:09:56.633468Z",
     "iopub.status.idle": "2023-01-05T20:09:57.392977Z",
     "shell.execute_reply": "2023-01-05T20:09:57.390967Z",
     "shell.execute_reply.started": "2023-01-05T20:09:56.633962Z"
    }
   },
   "outputs": [
    {
     "data": {
      "image/png": "[encoded data removed]",
      "text/plain": [
       "<Figure size 1080x360 with 3 Axes>"
      ]
     },
     "metadata": {},
     "output_type": "display_data"
    }
   ],
   "source": [
    "sb.factorplot('Age_Group','Survived',data=data,col='Pclass')\n",
    "plt.show()"
   ]
  },
  {
   "cell_type": "markdown",
   "id": "cb0b3013",
   "metadata": {},
   "source": [
    "We see that survival rate decreases as the age "
   ]
  },
  {
   "cell_type": "markdown",
   "id": "c02e9ec4",
   "metadata": {},
   "source": [
    "### Fare Range"
   ]
  },
  {
   "cell_type": "code",
   "execution_count": 116,
   "id": "185ba673",
   "metadata": {
    "execution": {
     "iopub.execute_input": "2023-01-05T20:09:57.395081Z",
     "iopub.status.busy": "2023-01-05T20:09:57.394618Z",
     "iopub.status.idle": "2023-01-05T20:09:57.422425Z",
     "shell.execute_reply": "2023-01-05T20:09:57.420116Z",
     "shell.execute_reply.started": "2023-01-05T20:09:57.395039Z"
    }
   },
   "outputs": [
    {
     "data": {
      "text/html": [
       "<style type=\"text/css\">\n",
       "#T_544e3_row0_col0 {\n",
       "  background-color: #0000ff;\n",
       "  color: #f1f1f1;\n",
       "}\n",
       "#T_544e3_row1_col0 {\n",
       "  background-color: #8c8cff;\n",
       "  color: #f1f1f1;\n",
       "}\n",
       "#T_544e3_row2_col0 {\n",
       "  background-color: #ffa8a8;\n",
       "  color: #000000;\n",
       "}\n",
       "#T_544e3_row3_col0 {\n",
       "  background-color: #ff0000;\n",
       "  color: #f1f1f1;\n",
       "}\n",
       "</style>\n",
       "<table id=\"T_544e3\">\n",
       "  <thead>\n",
       "    <tr>\n",
       "      <th class=\"blank level0\" >&nbsp;</th>\n",
       "      <th id=\"T_544e3_level0_col0\" class=\"col_heading level0 col0\" >Survived</th>\n",
       "    </tr>\n",
       "    <tr>\n",
       "      <th class=\"index_name level0\" >Fare_Range</th>\n",
       "      <th class=\"blank col0\" >&nbsp;</th>\n",
       "    </tr>\n",
       "  </thead>\n",
       "  <tbody>\n",
       "    <tr>\n",
       "      <th id=\"T_544e3_level0_row0\" class=\"row_heading level0 row0\" >(-0.001, 7.91]</th>\n",
       "      <td id=\"T_544e3_row0_col0\" class=\"data row0 col0\" >0.197309</td>\n",
       "    </tr>\n",
       "    <tr>\n",
       "      <th id=\"T_544e3_level0_row1\" class=\"row_heading level0 row1\" >(7.91, 14.454]</th>\n",
       "      <td id=\"T_544e3_row1_col0\" class=\"data row1 col0\" >0.303571</td>\n",
       "    </tr>\n",
       "    <tr>\n",
       "      <th id=\"T_544e3_level0_row2\" class=\"row_heading level0 row2\" >(14.454, 31.0]</th>\n",
       "      <td id=\"T_544e3_row2_col0\" class=\"data row2 col0\" >0.454955</td>\n",
       "    </tr>\n",
       "    <tr>\n",
       "      <th id=\"T_544e3_level0_row3\" class=\"row_heading level0 row3\" >(31.0, 512.329]</th>\n",
       "      <td id=\"T_544e3_row3_col0\" class=\"data row3 col0\" >0.581081</td>\n",
       "    </tr>\n",
       "  </tbody>\n",
       "</table>\n"
      ],
      "text/plain": [
       "<pandas.io.formats.style.Styler at 0x2466af04250>"
      ]
     },
     "execution_count": 116,
     "metadata": {},
     "output_type": "execute_result"
    }
   ],
   "source": [
    "data['Fare_Range']=pd.qcut(data['Fare'],4) #Making 4 cuts on Fare Column\n",
    "data.groupby(['Fare_Range'])['Survived'].mean().to_frame().style.background_gradient(cmap='bwr')"
   ]
  },
  {
   "cell_type": "code",
   "execution_count": 117,
   "id": "dcb65dc1",
   "metadata": {
    "execution": {
     "iopub.execute_input": "2023-01-05T20:09:57.425319Z",
     "iopub.status.busy": "2023-01-05T20:09:57.424417Z",
     "iopub.status.idle": "2023-01-05T20:09:57.455965Z",
     "shell.execute_reply": "2023-01-05T20:09:57.453977Z",
     "shell.execute_reply.started": "2023-01-05T20:09:57.425219Z"
    }
   },
   "outputs": [
    {
     "data": {
      "text/html": [
       "<style type=\"text/css\">\n",
       "#T_2593a_row0_col0 {\n",
       "  background-color: #ff0000;\n",
       "  color: #f1f1f1;\n",
       "}\n",
       "#T_2593a_row1_col0 {\n",
       "  background-color: #fffefe;\n",
       "  color: #000000;\n",
       "}\n",
       "#T_2593a_row2_col0 {\n",
       "  background-color: #aaaaff;\n",
       "  color: #000000;\n",
       "}\n",
       "#T_2593a_row3_col0 {\n",
       "  background-color: #0000ff;\n",
       "  color: #f1f1f1;\n",
       "}\n",
       "</style>\n",
       "<table id=\"T_2593a\">\n",
       "  <thead>\n",
       "    <tr>\n",
       "      <th class=\"blank level0\" >&nbsp;</th>\n",
       "      <th id=\"T_2593a_level0_col0\" class=\"col_heading level0 col0\" >Fare_Range</th>\n",
       "    </tr>\n",
       "  </thead>\n",
       "  <tbody>\n",
       "    <tr>\n",
       "      <th id=\"T_2593a_level0_row0\" class=\"row_heading level0 row0\" >(-0.001, 7.896]</th>\n",
       "      <td id=\"T_2593a_row0_col0\" class=\"data row0 col0\" >114</td>\n",
       "    </tr>\n",
       "    <tr>\n",
       "      <th id=\"T_2593a_level0_row1\" class=\"row_heading level0 row1\" >(14.454, 31.5]</th>\n",
       "      <td id=\"T_2593a_row1_col0\" class=\"data row1 col0\" >105</td>\n",
       "    </tr>\n",
       "    <tr>\n",
       "      <th id=\"T_2593a_level0_row2\" class=\"row_heading level0 row2\" >(31.5, 512.329]</th>\n",
       "      <td id=\"T_2593a_row2_col0\" class=\"data row2 col0\" >102</td>\n",
       "    </tr>\n",
       "    <tr>\n",
       "      <th id=\"T_2593a_level0_row3\" class=\"row_heading level0 row3\" >(7.896, 14.454]</th>\n",
       "      <td id=\"T_2593a_row3_col0\" class=\"data row3 col0\" >96</td>\n",
       "    </tr>\n",
       "  </tbody>\n",
       "</table>\n"
      ],
      "text/plain": [
       "<pandas.io.formats.style.Styler at 0x2466ce410a0>"
      ]
     },
     "execution_count": 117,
     "metadata": {},
     "output_type": "execute_result"
    }
   ],
   "source": [
    "### Performing similar action on test data\n",
    "test_data['Fare_Range']=pd.qcut(test_data['Fare'],4) #Making 4 cuts on Fare Column\n",
    "test_data['Fare_Range'].value_counts().to_frame().style.background_gradient(cmap='bwr')"
   ]
  },
  {
   "cell_type": "markdown",
   "id": "d8366e36",
   "metadata": {},
   "source": [
    "We see that as the Fare Range increases, the chances of survival increases."
   ]
  },
  {
   "cell_type": "code",
   "execution_count": 118,
   "id": "322af840",
   "metadata": {
    "execution": {
     "iopub.execute_input": "2023-01-05T20:09:57.458004Z",
     "iopub.status.busy": "2023-01-05T20:09:57.457590Z",
     "iopub.status.idle": "2023-01-05T20:09:57.474573Z",
     "shell.execute_reply": "2023-01-05T20:09:57.472833Z",
     "shell.execute_reply.started": "2023-01-05T20:09:57.457966Z"
    }
   },
   "outputs": [
    {
     "data": {
      "text/plain": [
       "0       (-0.001, 7.91]\n",
       "1      (31.0, 512.329]\n",
       "2       (7.91, 14.454]\n",
       "3      (31.0, 512.329]\n",
       "4       (7.91, 14.454]\n",
       "            ...       \n",
       "886     (7.91, 14.454]\n",
       "887     (14.454, 31.0]\n",
       "888     (14.454, 31.0]\n",
       "889     (14.454, 31.0]\n",
       "890     (-0.001, 7.91]\n",
       "Name: Fare_Range, Length: 891, dtype: category\n",
       "Categories (4, interval[float64, right]): [(-0.001, 7.91] < (7.91, 14.454] < (14.454, 31.0] < (31.0, 512.329]]"
      ]
     },
     "execution_count": 118,
     "metadata": {},
     "output_type": "execute_result"
    }
   ],
   "source": [
    "data['Fare_Range']"
   ]
  },
  {
   "cell_type": "code",
   "execution_count": 119,
   "id": "25a583cb",
   "metadata": {
    "execution": {
     "iopub.execute_input": "2023-01-05T20:09:57.478129Z",
     "iopub.status.busy": "2023-01-05T20:09:57.477115Z",
     "iopub.status.idle": "2023-01-05T20:09:57.496144Z",
     "shell.execute_reply": "2023-01-05T20:09:57.495166Z",
     "shell.execute_reply.started": "2023-01-05T20:09:57.478080Z"
    }
   },
   "outputs": [],
   "source": [
    "data['Fare_Cat']=0\n",
    "data.loc[data['Fare']<=7.91,'Fare_Cat']=0\n",
    "data.loc[(data['Fare']>7.91)&(data['Fare']<=14.454),'Fare_Cat']=1\n",
    "data.loc[(data['Fare']>14.454)&(data['Fare']<=31),'Fare_Cat']=2\n",
    "data.loc[(data['Fare']>31)&(data['Fare']<=513),'Fare_Cat']=3"
   ]
  },
  {
   "cell_type": "code",
   "execution_count": 120,
   "id": "474dd9a9",
   "metadata": {
    "execution": {
     "iopub.execute_input": "2023-01-05T20:09:57.497567Z",
     "iopub.status.busy": "2023-01-05T20:09:57.497239Z",
     "iopub.status.idle": "2023-01-05T20:09:57.516435Z",
     "shell.execute_reply": "2023-01-05T20:09:57.514731Z",
     "shell.execute_reply.started": "2023-01-05T20:09:57.497539Z"
    }
   },
   "outputs": [],
   "source": [
    "### Performing similar action on test Data\n",
    "test_data['Fare_Cat']=0\n",
    "test_data.loc[test_data['Fare']<=7.91,'Fare_Cat']=0\n",
    "test_data.loc[(test_data['Fare']>7.91)&(test_data['Fare']<=14.454),'Fare_Cat']=1\n",
    "test_data.loc[(test_data['Fare']>14.454)&(test_data['Fare']<=31),'Fare_Cat']=2\n",
    "test_data.loc[(test_data['Fare']>31)&(test_data['Fare']<=513),'Fare_Cat']=3"
   ]
  },
  {
   "cell_type": "code",
   "execution_count": 121,
   "id": "55de54a4",
   "metadata": {
    "execution": {
     "iopub.execute_input": "2023-01-05T20:09:57.518655Z",
     "iopub.status.busy": "2023-01-05T20:09:57.518247Z",
     "iopub.status.idle": "2023-01-05T20:09:57.547575Z",
     "shell.execute_reply": "2023-01-05T20:09:57.545785Z",
     "shell.execute_reply.started": "2023-01-05T20:09:57.518627Z"
    }
   },
   "outputs": [
    {
     "data": {
      "text/html": [
       "<div>\n",
       "<style scoped>\n",
       "    .dataframe tbody tr th:only-of-type {\n",
       "        vertical-align: middle;\n",
       "    }\n",
       "\n",
       "    .dataframe tbody tr th {\n",
       "        vertical-align: top;\n",
       "    }\n",
       "\n",
       "    .dataframe thead th {\n",
       "        text-align: right;\n",
       "    }\n",
       "</style>\n",
       "<table border=\"1\" class=\"dataframe\">\n",
       "  <thead>\n",
       "    <tr style=\"text-align: right;\">\n",
       "      <th></th>\n",
       "      <th>PassengerId</th>\n",
       "      <th>Survived</th>\n",
       "      <th>Pclass</th>\n",
       "      <th>Name</th>\n",
       "      <th>Sex</th>\n",
       "      <th>Age</th>\n",
       "      <th>SibSp</th>\n",
       "      <th>Parch</th>\n",
       "      <th>Ticket</th>\n",
       "      <th>Fare</th>\n",
       "      <th>Cabin</th>\n",
       "      <th>Embarked</th>\n",
       "      <th>Initial</th>\n",
       "      <th>Age_Group</th>\n",
       "      <th>Fare_Range</th>\n",
       "      <th>Fare_Cat</th>\n",
       "    </tr>\n",
       "  </thead>\n",
       "  <tbody>\n",
       "    <tr>\n",
       "      <th>0</th>\n",
       "      <td>1</td>\n",
       "      <td>0</td>\n",
       "      <td>3</td>\n",
       "      <td>Braund, Mr. Owen Harris</td>\n",
       "      <td>male</td>\n",
       "      <td>22.0</td>\n",
       "      <td>1</td>\n",
       "      <td>0</td>\n",
       "      <td>A/5 21171</td>\n",
       "      <td>7.2500</td>\n",
       "      <td>NaN</td>\n",
       "      <td>S</td>\n",
       "      <td>Mr</td>\n",
       "      <td>1</td>\n",
       "      <td>(-0.001, 7.91]</td>\n",
       "      <td>0</td>\n",
       "    </tr>\n",
       "    <tr>\n",
       "      <th>1</th>\n",
       "      <td>2</td>\n",
       "      <td>1</td>\n",
       "      <td>1</td>\n",
       "      <td>Cumings, Mrs. John Bradley (Florence Briggs Th...</td>\n",
       "      <td>female</td>\n",
       "      <td>38.0</td>\n",
       "      <td>1</td>\n",
       "      <td>0</td>\n",
       "      <td>PC 17599</td>\n",
       "      <td>71.2833</td>\n",
       "      <td>C85</td>\n",
       "      <td>C</td>\n",
       "      <td>Mrs</td>\n",
       "      <td>2</td>\n",
       "      <td>(31.0, 512.329]</td>\n",
       "      <td>3</td>\n",
       "    </tr>\n",
       "    <tr>\n",
       "      <th>2</th>\n",
       "      <td>3</td>\n",
       "      <td>1</td>\n",
       "      <td>3</td>\n",
       "      <td>Heikkinen, Miss. Laina</td>\n",
       "      <td>female</td>\n",
       "      <td>26.0</td>\n",
       "      <td>0</td>\n",
       "      <td>0</td>\n",
       "      <td>STON/O2. 3101282</td>\n",
       "      <td>7.9250</td>\n",
       "      <td>NaN</td>\n",
       "      <td>S</td>\n",
       "      <td>Miss</td>\n",
       "      <td>1</td>\n",
       "      <td>(7.91, 14.454]</td>\n",
       "      <td>1</td>\n",
       "    </tr>\n",
       "    <tr>\n",
       "      <th>3</th>\n",
       "      <td>4</td>\n",
       "      <td>1</td>\n",
       "      <td>1</td>\n",
       "      <td>Futrelle, Mrs. Jacques Heath (Lily May Peel)</td>\n",
       "      <td>female</td>\n",
       "      <td>35.0</td>\n",
       "      <td>1</td>\n",
       "      <td>0</td>\n",
       "      <td>113803</td>\n",
       "      <td>53.1000</td>\n",
       "      <td>C123</td>\n",
       "      <td>S</td>\n",
       "      <td>Mrs</td>\n",
       "      <td>2</td>\n",
       "      <td>(31.0, 512.329]</td>\n",
       "      <td>3</td>\n",
       "    </tr>\n",
       "    <tr>\n",
       "      <th>4</th>\n",
       "      <td>5</td>\n",
       "      <td>0</td>\n",
       "      <td>3</td>\n",
       "      <td>Allen, Mr. William Henry</td>\n",
       "      <td>male</td>\n",
       "      <td>35.0</td>\n",
       "      <td>0</td>\n",
       "      <td>0</td>\n",
       "      <td>373450</td>\n",
       "      <td>8.0500</td>\n",
       "      <td>NaN</td>\n",
       "      <td>S</td>\n",
       "      <td>Mr</td>\n",
       "      <td>2</td>\n",
       "      <td>(7.91, 14.454]</td>\n",
       "      <td>1</td>\n",
       "    </tr>\n",
       "  </tbody>\n",
       "</table>\n",
       "</div>"
      ],
      "text/plain": [
       "   PassengerId  Survived  Pclass  \\\n",
       "0            1         0       3   \n",
       "1            2         1       1   \n",
       "2            3         1       3   \n",
       "3            4         1       1   \n",
       "4            5         0       3   \n",
       "\n",
       "                                                Name     Sex   Age  SibSp  \\\n",
       "0                            Braund, Mr. Owen Harris    male  22.0      1   \n",
       "1  Cumings, Mrs. John Bradley (Florence Briggs Th...  female  38.0      1   \n",
       "2                             Heikkinen, Miss. Laina  female  26.0      0   \n",
       "3       Futrelle, Mrs. Jacques Heath (Lily May Peel)  female  35.0      1   \n",
       "4                           Allen, Mr. William Henry    male  35.0      0   \n",
       "\n",
       "   Parch            Ticket     Fare Cabin Embarked Initial  Age_Group  \\\n",
       "0      0         A/5 21171   7.2500   NaN        S      Mr          1   \n",
       "1      0          PC 17599  71.2833   C85        C     Mrs          2   \n",
       "2      0  STON/O2. 3101282   7.9250   NaN        S    Miss          1   \n",
       "3      0            113803  53.1000  C123        S     Mrs          2   \n",
       "4      0            373450   8.0500   NaN        S      Mr          2   \n",
       "\n",
       "        Fare_Range  Fare_Cat  \n",
       "0   (-0.001, 7.91]         0  \n",
       "1  (31.0, 512.329]         3  \n",
       "2   (7.91, 14.454]         1  \n",
       "3  (31.0, 512.329]         3  \n",
       "4   (7.91, 14.454]         1  "
      ]
     },
     "execution_count": 121,
     "metadata": {},
     "output_type": "execute_result"
    }
   ],
   "source": [
    "data.head()"
   ]
  },
  {
   "cell_type": "markdown",
   "id": "469e1d34",
   "metadata": {},
   "source": [
    "## Converting Strings into Numeric Values"
   ]
  },
  {
   "cell_type": "code",
   "execution_count": 122,
   "id": "889b2726",
   "metadata": {
    "execution": {
     "iopub.execute_input": "2023-01-05T20:09:57.551510Z",
     "iopub.status.busy": "2023-01-05T20:09:57.551019Z",
     "iopub.status.idle": "2023-01-05T20:09:57.569308Z",
     "shell.execute_reply": "2023-01-05T20:09:57.566784Z",
     "shell.execute_reply.started": "2023-01-05T20:09:57.551470Z"
    }
   },
   "outputs": [],
   "source": [
    "data['Sex'].replace(['male','female'],[0,1],inplace=True)\n",
    "data['Embarked'].replace(['S','C','Q'],[0,1,2],inplace=True)\n",
    "data['Initial'].replace(['Mr','Mrs','Miss','Master','Other'],[0,1,2,3,4],inplace=True)"
   ]
  },
  {
   "cell_type": "code",
   "execution_count": 123,
   "id": "b07abe0f",
   "metadata": {
    "execution": {
     "iopub.execute_input": "2023-01-05T20:09:57.573767Z",
     "iopub.status.busy": "2023-01-05T20:09:57.571509Z",
     "iopub.status.idle": "2023-01-05T20:09:57.592488Z",
     "shell.execute_reply": "2023-01-05T20:09:57.590489Z",
     "shell.execute_reply.started": "2023-01-05T20:09:57.573639Z"
    }
   },
   "outputs": [],
   "source": [
    "### Performing similar action on test Data\n",
    "test_data['Sex'].replace(['male','female'],[0,1],inplace=True)\n",
    "test_data['Embarked'].replace(['S','C','Q'],[0,1,2],inplace=True)\n",
    "test_data['Initial'].replace(['Mr','Mrs','Miss','Master','Other'],[0,1,2,3,4],inplace=True)"
   ]
  },
  {
   "cell_type": "markdown",
   "id": "442cee87",
   "metadata": {},
   "source": [
    "### Dropping Unwanted Features"
   ]
  },
  {
   "cell_type": "markdown",
   "id": "1b4a3f99",
   "metadata": {},
   "source": [
    "Name, Passenger ID and Ticket must be dropped as we cannot categorise them.\n",
    "Age can be droped as we have create Age Groups.\n",
    "Fare and Fare Range can be dropped as we have created Fare_Cat\n",
    "Cabin must be dropped due to prsence of huge number of NULL values."
   ]
  },
  {
   "cell_type": "code",
   "execution_count": 124,
   "id": "97c07a96",
   "metadata": {
    "execution": {
     "iopub.execute_input": "2023-01-05T20:09:57.594479Z",
     "iopub.status.busy": "2023-01-05T20:09:57.594058Z",
     "iopub.status.idle": "2023-01-05T20:09:57.606489Z",
     "shell.execute_reply": "2023-01-05T20:09:57.605560Z",
     "shell.execute_reply.started": "2023-01-05T20:09:57.594444Z"
    }
   },
   "outputs": [],
   "source": [
    "data.drop(['Name','Age','Ticket','Fare','Cabin','Fare_Range','PassengerId'],axis=1,inplace=True)"
   ]
  },
  {
   "cell_type": "code",
   "execution_count": 125,
   "id": "e877823a",
   "metadata": {
    "execution": {
     "iopub.execute_input": "2023-01-05T20:09:57.610884Z",
     "iopub.status.busy": "2023-01-05T20:09:57.607873Z",
     "iopub.status.idle": "2023-01-05T20:09:57.624186Z",
     "shell.execute_reply": "2023-01-05T20:09:57.623032Z",
     "shell.execute_reply.started": "2023-01-05T20:09:57.610771Z"
    }
   },
   "outputs": [],
   "source": [
    "### Performing similar action on test Data\n",
    "PassengerId = test_data['PassengerId']\n",
    "test_data.drop(['Name','Age','Ticket','Fare','Cabin','Fare_Range','PassengerId'],axis=1,inplace=True)"
   ]
  },
  {
   "cell_type": "code",
   "execution_count": 126,
   "id": "594a707d",
   "metadata": {
    "execution": {
     "iopub.execute_input": "2023-01-05T20:09:57.626332Z",
     "iopub.status.busy": "2023-01-05T20:09:57.625542Z",
     "iopub.status.idle": "2023-01-05T20:09:57.649638Z",
     "shell.execute_reply": "2023-01-05T20:09:57.647346Z",
     "shell.execute_reply.started": "2023-01-05T20:09:57.626296Z"
    }
   },
   "outputs": [
    {
     "data": {
      "text/html": [
       "<div>\n",
       "<style scoped>\n",
       "    .dataframe tbody tr th:only-of-type {\n",
       "        vertical-align: middle;\n",
       "    }\n",
       "\n",
       "    .dataframe tbody tr th {\n",
       "        vertical-align: top;\n",
       "    }\n",
       "\n",
       "    .dataframe thead th {\n",
       "        text-align: right;\n",
       "    }\n",
       "</style>\n",
       "<table border=\"1\" class=\"dataframe\">\n",
       "  <thead>\n",
       "    <tr style=\"text-align: right;\">\n",
       "      <th></th>\n",
       "      <th>Survived</th>\n",
       "      <th>Pclass</th>\n",
       "      <th>Sex</th>\n",
       "      <th>SibSp</th>\n",
       "      <th>Parch</th>\n",
       "      <th>Embarked</th>\n",
       "      <th>Initial</th>\n",
       "      <th>Age_Group</th>\n",
       "      <th>Fare_Cat</th>\n",
       "    </tr>\n",
       "  </thead>\n",
       "  <tbody>\n",
       "    <tr>\n",
       "      <th>0</th>\n",
       "      <td>0</td>\n",
       "      <td>3</td>\n",
       "      <td>0</td>\n",
       "      <td>1</td>\n",
       "      <td>0</td>\n",
       "      <td>0</td>\n",
       "      <td>0</td>\n",
       "      <td>1</td>\n",
       "      <td>0</td>\n",
       "    </tr>\n",
       "    <tr>\n",
       "      <th>1</th>\n",
       "      <td>1</td>\n",
       "      <td>1</td>\n",
       "      <td>1</td>\n",
       "      <td>1</td>\n",
       "      <td>0</td>\n",
       "      <td>1</td>\n",
       "      <td>1</td>\n",
       "      <td>2</td>\n",
       "      <td>3</td>\n",
       "    </tr>\n",
       "    <tr>\n",
       "      <th>2</th>\n",
       "      <td>1</td>\n",
       "      <td>3</td>\n",
       "      <td>1</td>\n",
       "      <td>0</td>\n",
       "      <td>0</td>\n",
       "      <td>0</td>\n",
       "      <td>2</td>\n",
       "      <td>1</td>\n",
       "      <td>1</td>\n",
       "    </tr>\n",
       "    <tr>\n",
       "      <th>3</th>\n",
       "      <td>1</td>\n",
       "      <td>1</td>\n",
       "      <td>1</td>\n",
       "      <td>1</td>\n",
       "      <td>0</td>\n",
       "      <td>0</td>\n",
       "      <td>1</td>\n",
       "      <td>2</td>\n",
       "      <td>3</td>\n",
       "    </tr>\n",
       "    <tr>\n",
       "      <th>4</th>\n",
       "      <td>0</td>\n",
       "      <td>3</td>\n",
       "      <td>0</td>\n",
       "      <td>0</td>\n",
       "      <td>0</td>\n",
       "      <td>0</td>\n",
       "      <td>0</td>\n",
       "      <td>2</td>\n",
       "      <td>1</td>\n",
       "    </tr>\n",
       "  </tbody>\n",
       "</table>\n",
       "</div>"
      ],
      "text/plain": [
       "   Survived  Pclass  Sex  SibSp  Parch  Embarked  Initial  Age_Group  Fare_Cat\n",
       "0         0       3    0      1      0         0        0          1         0\n",
       "1         1       1    1      1      0         1        1          2         3\n",
       "2         1       3    1      0      0         0        2          1         1\n",
       "3         1       1    1      1      0         0        1          2         3\n",
       "4         0       3    0      0      0         0        0          2         1"
      ]
     },
     "execution_count": 126,
     "metadata": {},
     "output_type": "execute_result"
    }
   ],
   "source": [
    "data.head()"
   ]
  },
  {
   "cell_type": "code",
   "execution_count": 127,
   "id": "ff995312",
   "metadata": {
    "execution": {
     "iopub.execute_input": "2023-01-05T20:09:57.652833Z",
     "iopub.status.busy": "2023-01-05T20:09:57.651311Z",
     "iopub.status.idle": "2023-01-05T20:09:57.673250Z",
     "shell.execute_reply": "2023-01-05T20:09:57.671077Z",
     "shell.execute_reply.started": "2023-01-05T20:09:57.652765Z"
    }
   },
   "outputs": [
    {
     "data": {
      "text/html": [
       "<div>\n",
       "<style scoped>\n",
       "    .dataframe tbody tr th:only-of-type {\n",
       "        vertical-align: middle;\n",
       "    }\n",
       "\n",
       "    .dataframe tbody tr th {\n",
       "        vertical-align: top;\n",
       "    }\n",
       "\n",
       "    .dataframe thead th {\n",
       "        text-align: right;\n",
       "    }\n",
       "</style>\n",
       "<table border=\"1\" class=\"dataframe\">\n",
       "  <thead>\n",
       "    <tr style=\"text-align: right;\">\n",
       "      <th></th>\n",
       "      <th>Pclass</th>\n",
       "      <th>Sex</th>\n",
       "      <th>SibSp</th>\n",
       "      <th>Parch</th>\n",
       "      <th>Embarked</th>\n",
       "      <th>Initial</th>\n",
       "      <th>Age_Group</th>\n",
       "      <th>Fare_Cat</th>\n",
       "    </tr>\n",
       "  </thead>\n",
       "  <tbody>\n",
       "    <tr>\n",
       "      <th>0</th>\n",
       "      <td>3</td>\n",
       "      <td>0</td>\n",
       "      <td>0</td>\n",
       "      <td>0</td>\n",
       "      <td>2</td>\n",
       "      <td>0</td>\n",
       "      <td>2</td>\n",
       "      <td>0</td>\n",
       "    </tr>\n",
       "    <tr>\n",
       "      <th>1</th>\n",
       "      <td>3</td>\n",
       "      <td>1</td>\n",
       "      <td>1</td>\n",
       "      <td>0</td>\n",
       "      <td>0</td>\n",
       "      <td>1</td>\n",
       "      <td>2</td>\n",
       "      <td>0</td>\n",
       "    </tr>\n",
       "    <tr>\n",
       "      <th>2</th>\n",
       "      <td>2</td>\n",
       "      <td>0</td>\n",
       "      <td>0</td>\n",
       "      <td>0</td>\n",
       "      <td>2</td>\n",
       "      <td>0</td>\n",
       "      <td>3</td>\n",
       "      <td>1</td>\n",
       "    </tr>\n",
       "    <tr>\n",
       "      <th>3</th>\n",
       "      <td>3</td>\n",
       "      <td>0</td>\n",
       "      <td>0</td>\n",
       "      <td>0</td>\n",
       "      <td>0</td>\n",
       "      <td>0</td>\n",
       "      <td>1</td>\n",
       "      <td>1</td>\n",
       "    </tr>\n",
       "    <tr>\n",
       "      <th>4</th>\n",
       "      <td>3</td>\n",
       "      <td>1</td>\n",
       "      <td>1</td>\n",
       "      <td>1</td>\n",
       "      <td>0</td>\n",
       "      <td>1</td>\n",
       "      <td>1</td>\n",
       "      <td>1</td>\n",
       "    </tr>\n",
       "  </tbody>\n",
       "</table>\n",
       "</div>"
      ],
      "text/plain": [
       "   Pclass  Sex  SibSp  Parch  Embarked  Initial  Age_Group  Fare_Cat\n",
       "0       3    0      0      0         2        0          2         0\n",
       "1       3    1      1      0         0        1          2         0\n",
       "2       2    0      0      0         2        0          3         1\n",
       "3       3    0      0      0         0        0          1         1\n",
       "4       3    1      1      1         0        1          1         1"
      ]
     },
     "execution_count": 127,
     "metadata": {},
     "output_type": "execute_result"
    }
   ],
   "source": [
    "test_data.head()"
   ]
  },
  {
   "cell_type": "markdown",
   "id": "0594c3ed",
   "metadata": {},
   "source": [
    "# Building Model and Predicting"
   ]
  },
  {
   "cell_type": "code",
   "execution_count": 128,
   "id": "83d0ec66",
   "metadata": {
    "execution": {
     "iopub.execute_input": "2023-01-05T20:09:57.675406Z",
     "iopub.status.busy": "2023-01-05T20:09:57.674897Z",
     "iopub.status.idle": "2023-01-05T20:09:57.689184Z",
     "shell.execute_reply": "2023-01-05T20:09:57.686208Z",
     "shell.execute_reply.started": "2023-01-05T20:09:57.675359Z"
    }
   },
   "outputs": [],
   "source": [
    "from sklearn.linear_model import LogisticRegression \n",
    "from sklearn.svm import SVC\n",
    "from sklearn.ensemble import RandomForestClassifier\n",
    "from sklearn.neighbors import KNeighborsClassifier\n",
    "from sklearn.naive_bayes import GaussianNB\n",
    "from sklearn.tree import DecisionTreeClassifier\n",
    "from sklearn.model_selection import train_test_split "
   ]
  },
  {
   "cell_type": "code",
   "execution_count": 129,
   "id": "645f4568",
   "metadata": {
    "execution": {
     "iopub.execute_input": "2023-01-05T20:09:57.692477Z",
     "iopub.status.busy": "2023-01-05T20:09:57.691890Z",
     "iopub.status.idle": "2023-01-05T20:09:57.709089Z",
     "shell.execute_reply": "2023-01-05T20:09:57.706206Z",
     "shell.execute_reply.started": "2023-01-05T20:09:57.692428Z"
    }
   },
   "outputs": [],
   "source": [
    "from sklearn import metrics\n",
    "from sklearn.metrics import confusion_matrix"
   ]
  },
  {
   "cell_type": "markdown",
   "id": "66097f5e",
   "metadata": {},
   "source": [
    "### Assigning Independent and Dependent variables"
   ]
  },
  {
   "cell_type": "code",
   "execution_count": 130,
   "id": "c05d1b6c",
   "metadata": {
    "execution": {
     "iopub.execute_input": "2023-01-05T20:09:57.714234Z",
     "iopub.status.busy": "2023-01-05T20:09:57.713522Z",
     "iopub.status.idle": "2023-01-05T20:09:57.725589Z",
     "shell.execute_reply": "2023-01-05T20:09:57.724470Z",
     "shell.execute_reply.started": "2023-01-05T20:09:57.714134Z"
    }
   },
   "outputs": [],
   "source": [
    "X = data.drop(columns='Survived')\n",
    "y = data['Survived']"
   ]
  },
  {
   "cell_type": "markdown",
   "id": "5893cf92",
   "metadata": {},
   "source": [
    "### Splitting train Data to validate"
   ]
  },
  {
   "cell_type": "code",
   "execution_count": 131,
   "id": "3a5d01fa",
   "metadata": {
    "execution": {
     "iopub.execute_input": "2023-01-05T20:09:57.727325Z",
     "iopub.status.busy": "2023-01-05T20:09:57.726998Z",
     "iopub.status.idle": "2023-01-05T20:09:57.743401Z",
     "shell.execute_reply": "2023-01-05T20:09:57.741425Z",
     "shell.execute_reply.started": "2023-01-05T20:09:57.727293Z"
    }
   },
   "outputs": [],
   "source": [
    "X_train, X_test, y_train, y_test = train_test_split(X, y, test_size=0.3)"
   ]
  },
  {
   "cell_type": "markdown",
   "id": "2bac2264",
   "metadata": {},
   "source": [
    "## Logistic Regression"
   ]
  },
  {
   "cell_type": "code",
   "execution_count": 132,
   "id": "cd87331e",
   "metadata": {
    "execution": {
     "iopub.execute_input": "2023-01-05T20:09:57.745767Z",
     "iopub.status.busy": "2023-01-05T20:09:57.745192Z",
     "iopub.status.idle": "2023-01-05T20:09:57.772674Z",
     "shell.execute_reply": "2023-01-05T20:09:57.770500Z",
     "shell.execute_reply.started": "2023-01-05T20:09:57.745731Z"
    }
   },
   "outputs": [
    {
     "name": "stdout",
     "output_type": "stream",
     "text": [
      "The accuracy of the Logistic Regression is 0.8022388059701493\n"
     ]
    }
   ],
   "source": [
    "lr = LogisticRegression()\n",
    "lr.fit(X_train,y_train)\n",
    "lr_pred=lr.predict(X_test)\n",
    "print('The accuracy of the Logistic Regression is',metrics.accuracy_score(lr_pred,y_test))"
   ]
  },
  {
   "cell_type": "markdown",
   "id": "8cca0d64",
   "metadata": {},
   "source": [
    "## Linear Support Vector Machine(linear-SVM)\n"
   ]
  },
  {
   "cell_type": "code",
   "execution_count": 133,
   "id": "16a609bb",
   "metadata": {
    "execution": {
     "iopub.execute_input": "2023-01-05T20:09:57.781260Z",
     "iopub.status.busy": "2023-01-05T20:09:57.780836Z",
     "iopub.status.idle": "2023-01-05T20:09:57.803769Z",
     "shell.execute_reply": "2023-01-05T20:09:57.801442Z",
     "shell.execute_reply.started": "2023-01-05T20:09:57.781222Z"
    }
   },
   "outputs": [
    {
     "name": "stdout",
     "output_type": "stream",
     "text": [
      "The accuracy of the Linear SVM is 0.7723880597014925\n"
     ]
    }
   ],
   "source": [
    "l_svm = SVC(kernel='linear',C=0.1,gamma=0.1)\n",
    "l_svm.fit(X_train,y_train)\n",
    "l_svm_pred=l_svm.predict(X_test)\n",
    "print('The accuracy of the Linear SVM is',metrics.accuracy_score(l_svm_pred,y_test))"
   ]
  },
  {
   "cell_type": "markdown",
   "id": "45c6459d",
   "metadata": {},
   "source": [
    "## Radial Support Vector Machines(rbf-SVM)"
   ]
  },
  {
   "cell_type": "code",
   "execution_count": 134,
   "id": "4b25d807",
   "metadata": {
    "execution": {
     "iopub.execute_input": "2023-01-05T20:09:57.807625Z",
     "iopub.status.busy": "2023-01-05T20:09:57.806970Z",
     "iopub.status.idle": "2023-01-05T20:09:57.835555Z",
     "shell.execute_reply": "2023-01-05T20:09:57.834265Z",
     "shell.execute_reply.started": "2023-01-05T20:09:57.807567Z"
    }
   },
   "outputs": [
    {
     "name": "stdout",
     "output_type": "stream",
     "text": [
      "The accuracy of the Radial SVM is 0.8246268656716418\n"
     ]
    }
   ],
   "source": [
    "r_svm = SVC(kernel='rbf',C=1,gamma=0.1)\n",
    "r_svm.fit(X_train,y_train)\n",
    "r_svm_pred=r_svm.predict(X_test)\n",
    "print('The accuracy of the Radial SVM is',metrics.accuracy_score(r_svm_pred,y_test))"
   ]
  },
  {
   "cell_type": "markdown",
   "id": "2386648c",
   "metadata": {},
   "source": [
    "## Decision Tree"
   ]
  },
  {
   "cell_type": "code",
   "execution_count": 135,
   "id": "e4eff7be",
   "metadata": {
    "execution": {
     "iopub.execute_input": "2023-01-05T20:09:57.838330Z",
     "iopub.status.busy": "2023-01-05T20:09:57.837905Z",
     "iopub.status.idle": "2023-01-05T20:09:57.850020Z",
     "shell.execute_reply": "2023-01-05T20:09:57.848244Z",
     "shell.execute_reply.started": "2023-01-05T20:09:57.838292Z"
    }
   },
   "outputs": [
    {
     "name": "stdout",
     "output_type": "stream",
     "text": [
      "The accuracy of the Decision Tree is 0.7947761194029851\n"
     ]
    }
   ],
   "source": [
    "dt=DecisionTreeClassifier()\n",
    "dt.fit(X_train,y_train)\n",
    "dt_pred=dt.predict(X_test)\n",
    "print('The accuracy of the Decision Tree is',metrics.accuracy_score(dt_pred,y_test))"
   ]
  },
  {
   "cell_type": "markdown",
   "id": "7a1771a8",
   "metadata": {},
   "source": [
    "## KNN Classifier"
   ]
  },
  {
   "cell_type": "code",
   "execution_count": 136,
   "id": "d8c72475",
   "metadata": {
    "execution": {
     "iopub.execute_input": "2023-01-05T20:09:57.852179Z",
     "iopub.status.busy": "2023-01-05T20:09:57.851777Z",
     "iopub.status.idle": "2023-01-05T20:09:57.871825Z",
     "shell.execute_reply": "2023-01-05T20:09:57.870689Z",
     "shell.execute_reply.started": "2023-01-05T20:09:57.852141Z"
    }
   },
   "outputs": [
    {
     "name": "stdout",
     "output_type": "stream",
     "text": [
      "The accuracy of KNN Classifier is 0.7985074626865671\n"
     ]
    }
   ],
   "source": [
    "knn=KNeighborsClassifier()\n",
    "knn.fit(X_train,y_train)\n",
    "knn_pred=knn.predict(X_test)\n",
    "print('The accuracy of KNN Classifier is',metrics.accuracy_score(knn_pred,y_test))"
   ]
  },
  {
   "cell_type": "markdown",
   "id": "b58e17ef",
   "metadata": {},
   "source": [
    "#### KNN with different number of nearest neighbours:"
   ]
  },
  {
   "cell_type": "code",
   "execution_count": 137,
   "id": "3fe10950",
   "metadata": {
    "execution": {
     "iopub.execute_input": "2023-01-05T20:09:57.874085Z",
     "iopub.status.busy": "2023-01-05T20:09:57.873763Z",
     "iopub.status.idle": "2023-01-05T20:09:58.214425Z",
     "shell.execute_reply": "2023-01-05T20:09:58.212020Z",
     "shell.execute_reply.started": "2023-01-05T20:09:57.874057Z"
    }
   },
   "outputs": [
    {
     "data": {
      "image/png": "[encoded data removed]",
      "text/plain": [
       "<Figure size 864x432 with 1 Axes>"
      ]
     },
     "metadata": {},
     "output_type": "display_data"
    },
    {
     "name": "stdout",
     "output_type": "stream",
     "text": [
      "Accuracies for different values of n are: [0.72014925 0.78731343 0.77985075 0.79850746 0.79850746 0.77985075\n",
      " 0.76119403 0.80223881 0.81343284 0.82089552] with the max value as  0.8208955223880597\n"
     ]
    }
   ],
   "source": [
    "a_index=list(range(1,11))\n",
    "a=pd.Series()\n",
    "x=[0,1,2,3,4,5,6,7,8,9,10]\n",
    "for i in list(range(1,11)):\n",
    "    knn=KNeighborsClassifier(n_neighbors=i) \n",
    "    knn.fit(X_train,y_train)\n",
    "    knn_pred=knn.predict(X_test)\n",
    "    a=a.append(pd.Series(metrics.accuracy_score(knn_pred,y_test)))\n",
    "plt.plot(a_index, a)\n",
    "plt.xticks(x)\n",
    "fig=plt.gcf()\n",
    "fig.set_size_inches(12,6)\n",
    "plt.show()\n",
    "print('Accuracies for different values of n are:',a.values,'with the max value as ',a.values.max())"
   ]
  },
  {
   "cell_type": "markdown",
   "id": "f263d3ba",
   "metadata": {},
   "source": [
    "### We see that, Radial SVM and KNN have the best Accuracy Scores"
   ]
  },
  {
   "cell_type": "markdown",
   "id": "9d43a21e",
   "metadata": {},
   "source": [
    "#### Let us apply Radial SVM on the Test Data"
   ]
  },
  {
   "cell_type": "code",
   "execution_count": 138,
   "id": "ad08a8ef",
   "metadata": {
    "execution": {
     "iopub.execute_input": "2023-01-05T20:09:58.217493Z",
     "iopub.status.busy": "2023-01-05T20:09:58.216392Z",
     "iopub.status.idle": "2023-01-05T20:09:58.222719Z",
     "shell.execute_reply": "2023-01-05T20:09:58.221127Z",
     "shell.execute_reply.started": "2023-01-05T20:09:58.217456Z"
    }
   },
   "outputs": [],
   "source": [
    "X_test = test_data"
   ]
  },
  {
   "cell_type": "code",
   "execution_count": 139,
   "id": "3e3eb634",
   "metadata": {
    "execution": {
     "iopub.execute_input": "2023-01-05T20:09:58.225689Z",
     "iopub.status.busy": "2023-01-05T20:09:58.224229Z",
     "iopub.status.idle": "2023-01-05T20:09:58.254216Z",
     "shell.execute_reply": "2023-01-05T20:09:58.252671Z",
     "shell.execute_reply.started": "2023-01-05T20:09:58.225650Z"
    }
   },
   "outputs": [],
   "source": [
    "r_svm = SVC(kernel='rbf',C=1,gamma=0.1)\n",
    "r_svm.fit(X_train,y_train)\n",
    "r_svm_pred=r_svm.predict(X_test)"
   ]
  },
  {
   "cell_type": "code",
   "execution_count": 140,
   "id": "2c86d8c8",
   "metadata": {
    "execution": {
     "iopub.execute_input": "2023-01-05T20:09:58.256557Z",
     "iopub.status.busy": "2023-01-05T20:09:58.256133Z",
     "iopub.status.idle": "2023-01-05T20:09:58.270113Z",
     "shell.execute_reply": "2023-01-05T20:09:58.268023Z",
     "shell.execute_reply.started": "2023-01-05T20:09:58.256518Z"
    }
   },
   "outputs": [
    {
     "data": {
      "text/plain": [
       "array([0, 1, 0, 0, 1, 0, 1, 0, 1, 0, 0, 0, 1, 0, 1, 1, 0, 0, 1, 1, 0, 1,\n",
       "       1, 0, 1, 0, 1, 0, 0, 0, 0, 0, 1, 1, 0, 0, 1, 1, 0, 0, 0, 0, 0, 1,\n",
       "       1, 0, 0, 0, 1, 1, 0, 0, 1, 1, 0, 0, 0, 0, 0, 1, 0, 0, 0, 1, 1, 1,\n",
       "       1, 0, 0, 0, 1, 0, 1, 0, 1, 0, 0, 1, 0, 1, 1, 0, 0, 0, 0, 0, 1, 1,\n",
       "       1, 1, 1, 0, 1, 0, 0, 0, 1, 0, 1, 0, 1, 0, 0, 0, 1, 0, 0, 0, 0, 0,\n",
       "       0, 1, 1, 1, 1, 0, 0, 1, 0, 1, 1, 0, 1, 0, 0, 1, 0, 1, 0, 0, 0, 0,\n",
       "       0, 0, 0, 0, 0, 0, 1, 0, 0, 1, 0, 0, 0, 0, 0, 0, 0, 1, 1, 0, 0, 1,\n",
       "       0, 0, 1, 1, 0, 1, 1, 1, 1, 0, 0, 1, 0, 0, 1, 1, 0, 0, 0, 0, 0, 1,\n",
       "       1, 0, 1, 1, 0, 0, 1, 0, 1, 0, 1, 0, 0, 0, 0, 0, 1, 0, 1, 0, 1, 1,\n",
       "       0, 1, 1, 1, 0, 1, 0, 0, 1, 0, 1, 0, 0, 0, 0, 1, 0, 0, 1, 0, 1, 0,\n",
       "       1, 0, 1, 0, 1, 1, 0, 1, 0, 0, 0, 1, 0, 0, 0, 0, 0, 0, 1, 1, 1, 1,\n",
       "       0, 0, 1, 0, 1, 0, 1, 1, 1, 0, 0, 0, 0, 0, 0, 0, 1, 0, 0, 0, 1, 1,\n",
       "       0, 0, 0, 0, 1, 0, 0, 0, 1, 1, 0, 1, 0, 0, 0, 0, 1, 1, 1, 1, 1, 0,\n",
       "       0, 0, 0, 0, 0, 1, 0, 0, 0, 0, 1, 0, 0, 0, 0, 0, 0, 0, 1, 1, 0, 1,\n",
       "       0, 1, 0, 0, 0, 1, 1, 1, 0, 0, 0, 0, 0, 0, 0, 0, 1, 0, 1, 0, 0, 0,\n",
       "       1, 0, 0, 1, 0, 0, 0, 0, 0, 1, 0, 0, 0, 1, 1, 1, 0, 1, 0, 1, 1, 0,\n",
       "       0, 0, 1, 0, 1, 0, 0, 1, 0, 1, 1, 0, 1, 0, 0, 1, 1, 0, 0, 1, 0, 0,\n",
       "       1, 1, 1, 0, 0, 0, 0, 0, 1, 1, 0, 1, 0, 0, 0, 0, 0, 1, 1, 0, 0, 1,\n",
       "       0, 1, 0, 0, 1, 0, 1, 0, 0, 0, 0, 0, 1, 1, 1, 1, 1, 0, 1, 0, 0, 1],\n",
       "      dtype=int64)"
      ]
     },
     "execution_count": 140,
     "metadata": {},
     "output_type": "execute_result"
    }
   ],
   "source": [
    "r_svm_pred"
   ]
  },
  {
   "cell_type": "code",
   "execution_count": 141,
   "id": "5336a7b5",
   "metadata": {
    "execution": {
     "iopub.execute_input": "2023-01-05T20:09:58.274288Z",
     "iopub.status.busy": "2023-01-05T20:09:58.273625Z",
     "iopub.status.idle": "2023-01-05T20:09:58.293189Z",
     "shell.execute_reply": "2023-01-05T20:09:58.290596Z",
     "shell.execute_reply.started": "2023-01-05T20:09:58.274236Z"
    },
    "scrolled": true
   },
   "outputs": [
    {
     "data": {
      "text/html": [
       "<div>\n",
       "<style scoped>\n",
       "    .dataframe tbody tr th:only-of-type {\n",
       "        vertical-align: middle;\n",
       "    }\n",
       "\n",
       "    .dataframe tbody tr th {\n",
       "        vertical-align: top;\n",
       "    }\n",
       "\n",
       "    .dataframe thead th {\n",
       "        text-align: right;\n",
       "    }\n",
       "</style>\n",
       "<table border=\"1\" class=\"dataframe\">\n",
       "  <thead>\n",
       "    <tr style=\"text-align: right;\">\n",
       "      <th></th>\n",
       "      <th>PassengerId</th>\n",
       "      <th>Survived</th>\n",
       "    </tr>\n",
       "  </thead>\n",
       "  <tbody>\n",
       "    <tr>\n",
       "      <th>0</th>\n",
       "      <td>892</td>\n",
       "      <td>0</td>\n",
       "    </tr>\n",
       "    <tr>\n",
       "      <th>1</th>\n",
       "      <td>893</td>\n",
       "      <td>1</td>\n",
       "    </tr>\n",
       "    <tr>\n",
       "      <th>2</th>\n",
       "      <td>894</td>\n",
       "      <td>0</td>\n",
       "    </tr>\n",
       "    <tr>\n",
       "      <th>3</th>\n",
       "      <td>895</td>\n",
       "      <td>0</td>\n",
       "    </tr>\n",
       "    <tr>\n",
       "      <th>4</th>\n",
       "      <td>896</td>\n",
       "      <td>1</td>\n",
       "    </tr>\n",
       "    <tr>\n",
       "      <th>...</th>\n",
       "      <td>...</td>\n",
       "      <td>...</td>\n",
       "    </tr>\n",
       "    <tr>\n",
       "      <th>413</th>\n",
       "      <td>1305</td>\n",
       "      <td>0</td>\n",
       "    </tr>\n",
       "    <tr>\n",
       "      <th>414</th>\n",
       "      <td>1306</td>\n",
       "      <td>1</td>\n",
       "    </tr>\n",
       "    <tr>\n",
       "      <th>415</th>\n",
       "      <td>1307</td>\n",
       "      <td>0</td>\n",
       "    </tr>\n",
       "    <tr>\n",
       "      <th>416</th>\n",
       "      <td>1308</td>\n",
       "      <td>0</td>\n",
       "    </tr>\n",
       "    <tr>\n",
       "      <th>417</th>\n",
       "      <td>1309</td>\n",
       "      <td>1</td>\n",
       "    </tr>\n",
       "  </tbody>\n",
       "</table>\n",
       "<p>418 rows × 2 columns</p>\n",
       "</div>"
      ],
      "text/plain": [
       "     PassengerId  Survived\n",
       "0            892         0\n",
       "1            893         1\n",
       "2            894         0\n",
       "3            895         0\n",
       "4            896         1\n",
       "..           ...       ...\n",
       "413         1305         0\n",
       "414         1306         1\n",
       "415         1307         0\n",
       "416         1308         0\n",
       "417         1309         1\n",
       "\n",
       "[418 rows x 2 columns]"
      ]
     },
     "execution_count": 141,
     "metadata": {},
     "output_type": "execute_result"
    }
   ],
   "source": [
    "submission = ({\n",
    "    'PassengerId': PassengerId,\n",
    "    'Survived': r_svm_pred\n",
    "})\n",
    "\n",
    "submisson_df = pd.DataFrame(submission)\n",
    "submisson_df"
   ]
  },
  {
   "cell_type": "code",
   "execution_count": 142,
   "id": "ecf92e51",
   "metadata": {
    "execution": {
     "iopub.execute_input": "2023-01-05T20:09:58.296985Z",
     "iopub.status.busy": "2023-01-05T20:09:58.295671Z",
     "iopub.status.idle": "2023-01-05T20:09:58.307507Z",
     "shell.execute_reply": "2023-01-05T20:09:58.304827Z",
     "shell.execute_reply.started": "2023-01-05T20:09:58.296944Z"
    }
   },
   "outputs": [],
   "source": [
    "submisson_df.to_csv('submission.csv')"
   ]
  },
  {
   "cell_type": "code",
   "execution_count": null,
   "id": "c1f37a3f",
   "metadata": {},
   "outputs": [],
   "source": []
  },
  {
   "cell_type": "code",
   "execution_count": null,
   "id": "6e4aa4d4",
   "metadata": {},
   "outputs": [],
   "source": []
  },
  {
   "cell_type": "code",
   "execution_count": null,
   "id": "0cf53050",
   "metadata": {},
   "outputs": [],
   "source": []
  },
  {
   "cell_type": "code",
   "execution_count": null,
   "id": "dc725fcc",
   "metadata": {},
   "outputs": [],
   "source": []
  },
  {
   "cell_type": "code",
   "execution_count": null,
   "id": "64cd6571",
   "metadata": {},
   "outputs": [],
   "source": []
  }
 ],
 "metadata": {
  "kernelspec": {
   "display_name": "Python 3 (ipykernel)",
   "language": "python",
   "name": "python3"
  },
  "language_info": {
   "codemirror_mode": {
    "name": "ipython",
    "version": 3
   },
   "file_extension": ".py",
   "mimetype": "text/x-python",
   "name": "python",
   "nbconvert_exporter": "python",
   "pygments_lexer": "ipython3",
   "version": "3.9.12"
  }
 },
 "nbformat": 4,
 "nbformat_minor": 5
}
